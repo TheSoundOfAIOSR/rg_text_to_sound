{
  "nbformat": 4,
  "nbformat_minor": 0,
  "metadata": {
    "colab": {
      "name": "results.ipynb",
      "provenance": []
    },
    "kernelspec": {
      "name": "python3",
      "display_name": "Python 3"
    },
    "language_info": {
      "name": "python"
    }
  },
  "cells": [
    {
      "cell_type": "markdown",
      "metadata": {
        "id": "9ZpwvItWhjqv"
      },
      "source": [
        "# Metrics"
      ]
    },
    {
      "cell_type": "code",
      "metadata": {
        "id": "_hU5v7xa1ypf"
      },
      "source": [
        "import matplotlib.pyplot as plt\n",
        "import pandas as pd\n",
        "import os\n",
        "\n",
        "def get_results_folder():\n",
        "  results_folder = os.path.join('..', 'assets', 'results')\n",
        "  fallback_results_folder = 'results'\n",
        "  if os.path.exists(results_folder):\n",
        "    return results_folder\n",
        "  else:\n",
        "    return fallback_results_folder\n",
        "\n",
        "\n",
        "def load_results():\n",
        "  df_results = []\n",
        "  results_folder = get_results_folder()\n",
        "  for filename in os.listdir(results_folder):\n",
        "    model_name = os.path.splitext(filename)[0]\n",
        "    results_path = os.path.join(results_folder, filename)\n",
        "    df_result = pd.read_csv(results_path)\n",
        "    df_result[\"model\"] = model_name\n",
        "    df_results.append(df_result)\n",
        "  return pd.concat(df_results)\n",
        "\n",
        "\n",
        "def plot_results_sliders(df_results, y_scale=None, figsize=(30,5)):\n",
        "  unique_sliders = df_results[\"slider\"].unique()\n",
        "  fig, axes = plt.subplots(nrows=1, ncols=len(unique_sliders),figsize=figsize)\n",
        "  for i,slider in enumerate(unique_sliders):\n",
        "    ax = axes[i]\n",
        "    if y_scale != None:\n",
        "      ax.set_ylim(y_scale[0], y_scale[1])\n",
        "    df_results[df_results[\"slider\"]==slider].pivot(columns=\"model\",values=\"accuracy\").plot.bar(title=slider, ax=axes[i])\n",
        "\n",
        "def plot_results(df_results):\n",
        "  plot_results_sliders(\n",
        "      df_results[df_results[\"slider\"].isin(['Bright_vs_Dark', 'Full_vs_Hollow', 'Smooth_vs_Rough','Warm_vs_Metallic', 'Clear_vs_Muddy'])], \n",
        "      y_scale=(0.0, 1.0))\n",
        "  plot_results_sliders(\n",
        "      df_results[df_results[\"slider\"].isin(['Thin_vs_Thick','Pure_vs_Noisy', 'Rich_vs_Sparse', 'Soft_vs_Hard'])], \n",
        "      y_scale=(0.0, 1.0))\n",
        "  \n",
        "\n",
        "def plot_overall_accuracy(df_results):\n",
        "  df = df_results[[\"model\",\"left_correct\",\"left_incorrect\",\"right_correct\",\"right_incorrect\"]]\n",
        "  df = df.groupby(\"model\").sum().reset_index()\n",
        "  df[\"accuracy\"] = (df[\"left_correct\"] + df[\"right_correct\"]) / (df[\"left_correct\"] + df[\"right_correct\"] + df[\"left_incorrect\"] + df[\"right_incorrect\"])\n",
        "  df.pivot(columns=\"model\",values=\"accuracy\").plot.bar(title=\"overall_accuracy\")\n",
        "  return df[[\"model\",\"accuracy\"]]"
      ],
      "execution_count": 2,
      "outputs": []
    },
    {
      "cell_type": "code",
      "metadata": {
        "colab": {
          "base_uri": "https://localhost:8080/",
          "height": 971
        },
        "id": "A3FjJF5317or",
        "outputId": "8913c232-28d7-4b89-f944-de039d60e780"
      },
      "source": [
        "df = load_results()\n",
        "plot_results(df)\n",
        "plot_overall_accuracy(df)"
      ],
      "execution_count": 5,
      "outputs": [
        {
          "output_type": "execute_result",
          "data": {
            "text/html": [
              "<div>\n",
              "<style scoped>\n",
              "    .dataframe tbody tr th:only-of-type {\n",
              "        vertical-align: middle;\n",
              "    }\n",
              "\n",
              "    .dataframe tbody tr th {\n",
              "        vertical-align: top;\n",
              "    }\n",
              "\n",
              "    .dataframe thead th {\n",
              "        text-align: right;\n",
              "    }\n",
              "</style>\n",
              "<table border=\"1\" class=\"dataframe\">\n",
              "  <thead>\n",
              "    <tr style=\"text-align: right;\">\n",
              "      <th></th>\n",
              "      <th>model</th>\n",
              "      <th>accuracy</th>\n",
              "    </tr>\n",
              "  </thead>\n",
              "  <tbody>\n",
              "    <tr>\n",
              "      <th>0</th>\n",
              "      <td>WordToWordsPairsMatcher</td>\n",
              "      <td>0.668067</td>\n",
              "    </tr>\n",
              "  </tbody>\n",
              "</table>\n",
              "</div>"
            ],
            "text/plain": [
              "                     model  accuracy\n",
              "0  WordToWordsPairsMatcher  0.668067"
            ]
          },
          "metadata": {
            "tags": []
          },
          "execution_count": 5
        },
        {
          "output_type": "display_data",
          "data": {
            "image/png": "[encoded data removed]",
            "text/plain": [
              "<Figure size 2160x360 with 5 Axes>"
            ]
          },
          "metadata": {
            "tags": [],
            "needs_background": "light"
          }
        },
        {
          "output_type": "display_data",
          "data": {
            "image/png": "[encoded data removed]",
            "text/plain": [
              "<Figure size 2160x360 with 4 Axes>"
            ]
          },
          "metadata": {
            "tags": [],
            "needs_background": "light"
          }
        },
        {
          "output_type": "display_data",
          "data": {
            "image/png": "[encoded data removed]",
            "text/plain": [
              "<Figure size 432x288 with 1 Axes>"
            ]
          },
          "metadata": {
            "tags": [],
            "needs_background": "light"
          }
        }
      ]
    },
    {
      "cell_type": "code",
      "metadata": {
        "colab": {
          "base_uri": "https://localhost:8080/",
          "height": 330
        },
        "id": "r6DOFBDHiM5R",
        "outputId": "562d1df7-0ec8-4d03-856a-7969e0fc9a87"
      },
      "source": [
        "df"
      ],
      "execution_count": 6,
      "outputs": [
        {
          "output_type": "execute_result",
          "data": {
            "text/html": [
              "<div>\n",
              "<style scoped>\n",
              "    .dataframe tbody tr th:only-of-type {\n",
              "        vertical-align: middle;\n",
              "    }\n",
              "\n",
              "    .dataframe tbody tr th {\n",
              "        vertical-align: top;\n",
              "    }\n",
              "\n",
              "    .dataframe thead th {\n",
              "        text-align: right;\n",
              "    }\n",
              "</style>\n",
              "<table border=\"1\" class=\"dataframe\">\n",
              "  <thead>\n",
              "    <tr style=\"text-align: right;\">\n",
              "      <th></th>\n",
              "      <th>slider</th>\n",
              "      <th>left_correct</th>\n",
              "      <th>left_incorrect</th>\n",
              "      <th>right_correct</th>\n",
              "      <th>right_incorrect</th>\n",
              "      <th>accuracy</th>\n",
              "      <th>left_support</th>\n",
              "      <th>right_support</th>\n",
              "      <th>model</th>\n",
              "    </tr>\n",
              "  </thead>\n",
              "  <tbody>\n",
              "    <tr>\n",
              "      <th>0</th>\n",
              "      <td>Bright_vs_Dark</td>\n",
              "      <td>12</td>\n",
              "      <td>0</td>\n",
              "      <td>15</td>\n",
              "      <td>5</td>\n",
              "      <td>0.843750</td>\n",
              "      <td>12</td>\n",
              "      <td>20</td>\n",
              "      <td>WordToWordsPairsMatcher</td>\n",
              "    </tr>\n",
              "    <tr>\n",
              "      <th>1</th>\n",
              "      <td>Full_vs_Hollow</td>\n",
              "      <td>12</td>\n",
              "      <td>1</td>\n",
              "      <td>4</td>\n",
              "      <td>4</td>\n",
              "      <td>0.761905</td>\n",
              "      <td>13</td>\n",
              "      <td>8</td>\n",
              "      <td>WordToWordsPairsMatcher</td>\n",
              "    </tr>\n",
              "    <tr>\n",
              "      <th>2</th>\n",
              "      <td>Smooth_vs_Rough</td>\n",
              "      <td>16</td>\n",
              "      <td>0</td>\n",
              "      <td>5</td>\n",
              "      <td>14</td>\n",
              "      <td>0.600000</td>\n",
              "      <td>16</td>\n",
              "      <td>19</td>\n",
              "      <td>WordToWordsPairsMatcher</td>\n",
              "    </tr>\n",
              "    <tr>\n",
              "      <th>3</th>\n",
              "      <td>Warm_vs_Metallic</td>\n",
              "      <td>9</td>\n",
              "      <td>0</td>\n",
              "      <td>1</td>\n",
              "      <td>0</td>\n",
              "      <td>1.000000</td>\n",
              "      <td>9</td>\n",
              "      <td>1</td>\n",
              "      <td>WordToWordsPairsMatcher</td>\n",
              "    </tr>\n",
              "    <tr>\n",
              "      <th>4</th>\n",
              "      <td>Clear_vs_Muddy</td>\n",
              "      <td>1</td>\n",
              "      <td>19</td>\n",
              "      <td>19</td>\n",
              "      <td>0</td>\n",
              "      <td>0.512821</td>\n",
              "      <td>20</td>\n",
              "      <td>19</td>\n",
              "      <td>WordToWordsPairsMatcher</td>\n",
              "    </tr>\n",
              "    <tr>\n",
              "      <th>5</th>\n",
              "      <td>Thin_vs_Thick</td>\n",
              "      <td>2</td>\n",
              "      <td>14</td>\n",
              "      <td>18</td>\n",
              "      <td>1</td>\n",
              "      <td>0.571429</td>\n",
              "      <td>16</td>\n",
              "      <td>19</td>\n",
              "      <td>WordToWordsPairsMatcher</td>\n",
              "    </tr>\n",
              "    <tr>\n",
              "      <th>6</th>\n",
              "      <td>Pure_vs_Noisy</td>\n",
              "      <td>16</td>\n",
              "      <td>2</td>\n",
              "      <td>0</td>\n",
              "      <td>0</td>\n",
              "      <td>0.888889</td>\n",
              "      <td>18</td>\n",
              "      <td>0</td>\n",
              "      <td>WordToWordsPairsMatcher</td>\n",
              "    </tr>\n",
              "    <tr>\n",
              "      <th>7</th>\n",
              "      <td>Rich_vs_Sparse</td>\n",
              "      <td>11</td>\n",
              "      <td>1</td>\n",
              "      <td>0</td>\n",
              "      <td>0</td>\n",
              "      <td>0.916667</td>\n",
              "      <td>12</td>\n",
              "      <td>0</td>\n",
              "      <td>WordToWordsPairsMatcher</td>\n",
              "    </tr>\n",
              "    <tr>\n",
              "      <th>8</th>\n",
              "      <td>Soft_vs_Hard</td>\n",
              "      <td>16</td>\n",
              "      <td>1</td>\n",
              "      <td>2</td>\n",
              "      <td>17</td>\n",
              "      <td>0.500000</td>\n",
              "      <td>17</td>\n",
              "      <td>19</td>\n",
              "      <td>WordToWordsPairsMatcher</td>\n",
              "    </tr>\n",
              "  </tbody>\n",
              "</table>\n",
              "</div>"
            ],
            "text/plain": [
              "             slider  left_correct  ...  right_support                    model\n",
              "0    Bright_vs_Dark            12  ...             20  WordToWordsPairsMatcher\n",
              "1    Full_vs_Hollow            12  ...              8  WordToWordsPairsMatcher\n",
              "2   Smooth_vs_Rough            16  ...             19  WordToWordsPairsMatcher\n",
              "3  Warm_vs_Metallic             9  ...              1  WordToWordsPairsMatcher\n",
              "4    Clear_vs_Muddy             1  ...             19  WordToWordsPairsMatcher\n",
              "5     Thin_vs_Thick             2  ...             19  WordToWordsPairsMatcher\n",
              "6     Pure_vs_Noisy            16  ...              0  WordToWordsPairsMatcher\n",
              "7    Rich_vs_Sparse            11  ...              0  WordToWordsPairsMatcher\n",
              "8      Soft_vs_Hard            16  ...             19  WordToWordsPairsMatcher\n",
              "\n",
              "[9 rows x 9 columns]"
            ]
          },
          "metadata": {
            "tags": []
          },
          "execution_count": 6
        }
      ]
    },
    {
      "cell_type": "markdown",
      "metadata": {
        "id": "BHQBV4jshpCv"
      },
      "source": [
        "# Dev"
      ]
    },
    {
      "cell_type": "code",
      "metadata": {
        "colab": {
          "base_uri": "https://localhost:8080/",
          "height": 0
        },
        "id": "xTODSKXM2fFp",
        "outputId": "40fb8856-bd3f-4be9-ff39-b22b31d9c979"
      },
      "source": [
        "df_dummy = df.copy()\n",
        "df_dummy[\"model\"] = \"dummy\"\n",
        "for c in [\"left_correct\",\"left_incorrect\",\"right_correct\",\"right_incorrect\",\"left_support\",\"right_support\"]:\n",
        "  df_dummy[c] = (df_dummy[c]/2).astype(int)\n",
        "df_dummy[\"accuracy\"] = df_dummy[\"accuracy\"]/2\n",
        "df = pd.concat([df,df_dummy])\n",
        "df"
      ],
      "execution_count": 6,
      "outputs": [
        {
          "output_type": "execute_result",
          "data": {
            "text/html": [
              "<div>\n",
              "<style scoped>\n",
              "    .dataframe tbody tr th:only-of-type {\n",
              "        vertical-align: middle;\n",
              "    }\n",
              "\n",
              "    .dataframe tbody tr th {\n",
              "        vertical-align: top;\n",
              "    }\n",
              "\n",
              "    .dataframe thead th {\n",
              "        text-align: right;\n",
              "    }\n",
              "</style>\n",
              "<table border=\"1\" class=\"dataframe\">\n",
              "  <thead>\n",
              "    <tr style=\"text-align: right;\">\n",
              "      <th></th>\n",
              "      <th>slider</th>\n",
              "      <th>left_correct</th>\n",
              "      <th>left_incorrect</th>\n",
              "      <th>right_correct</th>\n",
              "      <th>right_incorrect</th>\n",
              "      <th>accuracy</th>\n",
              "      <th>left_support</th>\n",
              "      <th>right_support</th>\n",
              "      <th>model</th>\n",
              "    </tr>\n",
              "  </thead>\n",
              "  <tbody>\n",
              "    <tr>\n",
              "      <th>0</th>\n",
              "      <td>Bright_vs_Dark</td>\n",
              "      <td>12</td>\n",
              "      <td>0</td>\n",
              "      <td>15</td>\n",
              "      <td>5</td>\n",
              "      <td>0.843750</td>\n",
              "      <td>12</td>\n",
              "      <td>20</td>\n",
              "      <td>WordToWordsPairsMatcher</td>\n",
              "    </tr>\n",
              "    <tr>\n",
              "      <th>1</th>\n",
              "      <td>Full_vs_Hollow</td>\n",
              "      <td>12</td>\n",
              "      <td>1</td>\n",
              "      <td>4</td>\n",
              "      <td>4</td>\n",
              "      <td>0.761905</td>\n",
              "      <td>13</td>\n",
              "      <td>8</td>\n",
              "      <td>WordToWordsPairsMatcher</td>\n",
              "    </tr>\n",
              "    <tr>\n",
              "      <th>2</th>\n",
              "      <td>Smooth_vs_Rough</td>\n",
              "      <td>16</td>\n",
              "      <td>0</td>\n",
              "      <td>5</td>\n",
              "      <td>14</td>\n",
              "      <td>0.600000</td>\n",
              "      <td>16</td>\n",
              "      <td>19</td>\n",
              "      <td>WordToWordsPairsMatcher</td>\n",
              "    </tr>\n",
              "    <tr>\n",
              "      <th>3</th>\n",
              "      <td>Warm_vs_Metallic</td>\n",
              "      <td>9</td>\n",
              "      <td>0</td>\n",
              "      <td>1</td>\n",
              "      <td>0</td>\n",
              "      <td>1.000000</td>\n",
              "      <td>9</td>\n",
              "      <td>1</td>\n",
              "      <td>WordToWordsPairsMatcher</td>\n",
              "    </tr>\n",
              "    <tr>\n",
              "      <th>4</th>\n",
              "      <td>Clear_vs_Muddy</td>\n",
              "      <td>1</td>\n",
              "      <td>19</td>\n",
              "      <td>19</td>\n",
              "      <td>0</td>\n",
              "      <td>0.512821</td>\n",
              "      <td>20</td>\n",
              "      <td>19</td>\n",
              "      <td>WordToWordsPairsMatcher</td>\n",
              "    </tr>\n",
              "    <tr>\n",
              "      <th>5</th>\n",
              "      <td>Thin_vs_Thick</td>\n",
              "      <td>2</td>\n",
              "      <td>14</td>\n",
              "      <td>18</td>\n",
              "      <td>1</td>\n",
              "      <td>0.571429</td>\n",
              "      <td>16</td>\n",
              "      <td>19</td>\n",
              "      <td>WordToWordsPairsMatcher</td>\n",
              "    </tr>\n",
              "    <tr>\n",
              "      <th>6</th>\n",
              "      <td>Pure_vs_Noisy</td>\n",
              "      <td>16</td>\n",
              "      <td>2</td>\n",
              "      <td>0</td>\n",
              "      <td>0</td>\n",
              "      <td>0.888889</td>\n",
              "      <td>18</td>\n",
              "      <td>0</td>\n",
              "      <td>WordToWordsPairsMatcher</td>\n",
              "    </tr>\n",
              "    <tr>\n",
              "      <th>7</th>\n",
              "      <td>Rich_vs_Sparse</td>\n",
              "      <td>11</td>\n",
              "      <td>1</td>\n",
              "      <td>0</td>\n",
              "      <td>0</td>\n",
              "      <td>0.916667</td>\n",
              "      <td>12</td>\n",
              "      <td>0</td>\n",
              "      <td>WordToWordsPairsMatcher</td>\n",
              "    </tr>\n",
              "    <tr>\n",
              "      <th>8</th>\n",
              "      <td>Soft_vs_Hard</td>\n",
              "      <td>16</td>\n",
              "      <td>1</td>\n",
              "      <td>2</td>\n",
              "      <td>17</td>\n",
              "      <td>0.500000</td>\n",
              "      <td>17</td>\n",
              "      <td>19</td>\n",
              "      <td>WordToWordsPairsMatcher</td>\n",
              "    </tr>\n",
              "    <tr>\n",
              "      <th>0</th>\n",
              "      <td>Bright_vs_Dark</td>\n",
              "      <td>6</td>\n",
              "      <td>0</td>\n",
              "      <td>7</td>\n",
              "      <td>2</td>\n",
              "      <td>0.421875</td>\n",
              "      <td>6</td>\n",
              "      <td>10</td>\n",
              "      <td>dummy</td>\n",
              "    </tr>\n",
              "    <tr>\n",
              "      <th>1</th>\n",
              "      <td>Full_vs_Hollow</td>\n",
              "      <td>6</td>\n",
              "      <td>0</td>\n",
              "      <td>2</td>\n",
              "      <td>2</td>\n",
              "      <td>0.380952</td>\n",
              "      <td>6</td>\n",
              "      <td>4</td>\n",
              "      <td>dummy</td>\n",
              "    </tr>\n",
              "    <tr>\n",
              "      <th>2</th>\n",
              "      <td>Smooth_vs_Rough</td>\n",
              "      <td>8</td>\n",
              "      <td>0</td>\n",
              "      <td>2</td>\n",
              "      <td>7</td>\n",
              "      <td>0.300000</td>\n",
              "      <td>8</td>\n",
              "      <td>9</td>\n",
              "      <td>dummy</td>\n",
              "    </tr>\n",
              "    <tr>\n",
              "      <th>3</th>\n",
              "      <td>Warm_vs_Metallic</td>\n",
              "      <td>4</td>\n",
              "      <td>0</td>\n",
              "      <td>0</td>\n",
              "      <td>0</td>\n",
              "      <td>0.500000</td>\n",
              "      <td>4</td>\n",
              "      <td>0</td>\n",
              "      <td>dummy</td>\n",
              "    </tr>\n",
              "    <tr>\n",
              "      <th>4</th>\n",
              "      <td>Clear_vs_Muddy</td>\n",
              "      <td>0</td>\n",
              "      <td>9</td>\n",
              "      <td>9</td>\n",
              "      <td>0</td>\n",
              "      <td>0.256410</td>\n",
              "      <td>10</td>\n",
              "      <td>9</td>\n",
              "      <td>dummy</td>\n",
              "    </tr>\n",
              "    <tr>\n",
              "      <th>5</th>\n",
              "      <td>Thin_vs_Thick</td>\n",
              "      <td>1</td>\n",
              "      <td>7</td>\n",
              "      <td>9</td>\n",
              "      <td>0</td>\n",
              "      <td>0.285714</td>\n",
              "      <td>8</td>\n",
              "      <td>9</td>\n",
              "      <td>dummy</td>\n",
              "    </tr>\n",
              "    <tr>\n",
              "      <th>6</th>\n",
              "      <td>Pure_vs_Noisy</td>\n",
              "      <td>8</td>\n",
              "      <td>1</td>\n",
              "      <td>0</td>\n",
              "      <td>0</td>\n",
              "      <td>0.444444</td>\n",
              "      <td>9</td>\n",
              "      <td>0</td>\n",
              "      <td>dummy</td>\n",
              "    </tr>\n",
              "    <tr>\n",
              "      <th>7</th>\n",
              "      <td>Rich_vs_Sparse</td>\n",
              "      <td>5</td>\n",
              "      <td>0</td>\n",
              "      <td>0</td>\n",
              "      <td>0</td>\n",
              "      <td>0.458333</td>\n",
              "      <td>6</td>\n",
              "      <td>0</td>\n",
              "      <td>dummy</td>\n",
              "    </tr>\n",
              "    <tr>\n",
              "      <th>8</th>\n",
              "      <td>Soft_vs_Hard</td>\n",
              "      <td>8</td>\n",
              "      <td>0</td>\n",
              "      <td>1</td>\n",
              "      <td>8</td>\n",
              "      <td>0.250000</td>\n",
              "      <td>8</td>\n",
              "      <td>9</td>\n",
              "      <td>dummy</td>\n",
              "    </tr>\n",
              "  </tbody>\n",
              "</table>\n",
              "</div>"
            ],
            "text/plain": [
              "             slider  left_correct  ...  right_support                    model\n",
              "0    Bright_vs_Dark            12  ...             20  WordToWordsPairsMatcher\n",
              "1    Full_vs_Hollow            12  ...              8  WordToWordsPairsMatcher\n",
              "2   Smooth_vs_Rough            16  ...             19  WordToWordsPairsMatcher\n",
              "3  Warm_vs_Metallic             9  ...              1  WordToWordsPairsMatcher\n",
              "4    Clear_vs_Muddy             1  ...             19  WordToWordsPairsMatcher\n",
              "5     Thin_vs_Thick             2  ...             19  WordToWordsPairsMatcher\n",
              "6     Pure_vs_Noisy            16  ...              0  WordToWordsPairsMatcher\n",
              "7    Rich_vs_Sparse            11  ...              0  WordToWordsPairsMatcher\n",
              "8      Soft_vs_Hard            16  ...             19  WordToWordsPairsMatcher\n",
              "0    Bright_vs_Dark             6  ...             10                    dummy\n",
              "1    Full_vs_Hollow             6  ...              4                    dummy\n",
              "2   Smooth_vs_Rough             8  ...              9                    dummy\n",
              "3  Warm_vs_Metallic             4  ...              0                    dummy\n",
              "4    Clear_vs_Muddy             0  ...              9                    dummy\n",
              "5     Thin_vs_Thick             1  ...              9                    dummy\n",
              "6     Pure_vs_Noisy             8  ...              0                    dummy\n",
              "7    Rich_vs_Sparse             5  ...              0                    dummy\n",
              "8      Soft_vs_Hard             8  ...              9                    dummy\n",
              "\n",
              "[18 rows x 9 columns]"
            ]
          },
          "metadata": {
            "tags": []
          },
          "execution_count": 6
        }
      ]
    },
    {
      "cell_type": "code",
      "metadata": {
        "colab": {
          "base_uri": "https://localhost:8080/",
          "height": 0
        },
        "id": "qjwpHqBj4bol",
        "outputId": "4db13936-4918-47ae-ec55-86e16ca772bd"
      },
      "source": [
        "\n",
        "\n",
        "plot_results(df)"
      ],
      "execution_count": 14,
      "outputs": [
        {
          "output_type": "display_data",
          "data": {
            "image/png": "[encoded data removed]",
            "text/plain": [
              "<Figure size 2160x360 with 5 Axes>"
            ]
          },
          "metadata": {
            "tags": [],
            "needs_background": "light"
          }
        },
        {
          "output_type": "display_data",
          "data": {
            "image/png": "[encoded data removed]",
            "text/plain": [
              "<Figure size 2160x360 with 4 Axes>"
            ]
          },
          "metadata": {
            "tags": [],
            "needs_background": "light"
          }
        }
      ]
    },
    {
      "cell_type": "code",
      "metadata": {
        "colab": {
          "base_uri": "https://localhost:8080/",
          "height": 0
        },
        "id": "7QZz2pRE3JaK",
        "outputId": "95248ffe-cd5b-4164-b748-ea2b0f8ee241"
      },
      "source": [
        "df[df[\"slider\"]==\"Bright_vs_Dark\"].pivot(columns=\"model\",values=\"accuracy\").plot.bar()"
      ],
      "execution_count": 9,
      "outputs": [
        {
          "output_type": "execute_result",
          "data": {
            "text/plain": [
              "<matplotlib.axes._subplots.AxesSubplot at 0x7fd4e7a2c990>"
            ]
          },
          "metadata": {
            "tags": []
          },
          "execution_count": 9
        },
        {
          "output_type": "display_data",
          "data": {
            "image/png": "[encoded data removed]",
            "text/plain": [
              "<Figure size 432x288 with 1 Axes>"
            ]
          },
          "metadata": {
            "tags": [],
            "needs_background": "light"
          }
        }
      ]
    },
    {
      "cell_type": "code",
      "metadata": {
        "colab": {
          "base_uri": "https://localhost:8080/"
        },
        "id": "r08qYG4o3iXB",
        "outputId": "7e1a136f-ba80-4b22-ae0f-4a8e7437adee"
      },
      "source": [
        "df[\"slider\"].unique()"
      ],
      "execution_count": 11,
      "outputs": [
        {
          "output_type": "execute_result",
          "data": {
            "text/plain": [
              "array(['Bright_vs_Dark', 'Full_vs_Hollow', 'Smooth_vs_Rough',\n",
              "       'Warm_vs_Metallic', 'Clear_vs_Muddy', 'Thin_vs_Thick',\n",
              "       'Pure_vs_Noisy', 'Rich_vs_Sparse', 'Soft_vs_Hard'], dtype=object)"
            ]
          },
          "metadata": {
            "tags": []
          },
          "execution_count": 11
        }
      ]
    },
    {
      "cell_type": "code",
      "metadata": {
        "colab": {
          "base_uri": "https://localhost:8080/",
          "height": 0
        },
        "id": "4eOrbuSx53HZ",
        "outputId": "bf1434ba-bf85-41dd-fd07-6dbbf6f22c7d"
      },
      "source": [
        "def plot_overall_accuracy(df_results):\n",
        "  df = df_results[[\"model\",\"left_correct\",\"left_incorrect\",\"right_correct\",\"right_incorrect\"]]\n",
        "  df = df.groupby(\"model\").sum().reset_index()\n",
        "  df[\"accuracy\"] = (df[\"left_correct\"] + df[\"right_correct\"]) / (df[\"left_correct\"] + df[\"right_correct\"] + df[\"left_incorrect\"] + df[\"right_incorrect\"])\n",
        "  df.pivot(columns=\"model\",values=\"accuracy\").plot.bar(title=\"overall_accuracy\")\n",
        "  return df[[\"model\",\"accuracy\"]]\n",
        "\n",
        "plot_overall_accuracy(df)"
      ],
      "execution_count": 16,
      "outputs": [
        {
          "output_type": "execute_result",
          "data": {
            "text/html": [
              "<div>\n",
              "<style scoped>\n",
              "    .dataframe tbody tr th:only-of-type {\n",
              "        vertical-align: middle;\n",
              "    }\n",
              "\n",
              "    .dataframe tbody tr th {\n",
              "        vertical-align: top;\n",
              "    }\n",
              "\n",
              "    .dataframe thead th {\n",
              "        text-align: right;\n",
              "    }\n",
              "</style>\n",
              "<table border=\"1\" class=\"dataframe\">\n",
              "  <thead>\n",
              "    <tr style=\"text-align: right;\">\n",
              "      <th></th>\n",
              "      <th>model</th>\n",
              "      <th>accuracy</th>\n",
              "    </tr>\n",
              "  </thead>\n",
              "  <tbody>\n",
              "    <tr>\n",
              "      <th>0</th>\n",
              "      <td>WordToWordsPairsMatcher</td>\n",
              "      <td>0.668067</td>\n",
              "    </tr>\n",
              "    <tr>\n",
              "      <th>1</th>\n",
              "      <td>dummy</td>\n",
              "      <td>0.678571</td>\n",
              "    </tr>\n",
              "  </tbody>\n",
              "</table>\n",
              "</div>"
            ],
            "text/plain": [
              "                     model  accuracy\n",
              "0  WordToWordsPairsMatcher  0.668067\n",
              "1                    dummy  0.678571"
            ]
          },
          "metadata": {
            "tags": []
          },
          "execution_count": 16
        },
        {
          "output_type": "display_data",
          "data": {
            "image/png": "[encoded data removed]",
            "text/plain": [
              "<Figure size 432x288 with 1 Axes>"
            ]
          },
          "metadata": {
            "tags": [],
            "needs_background": "light"
          }
        }
      ]
    },
    {
      "cell_type": "code",
      "metadata": {
        "id": "e-qKTwQF7pCC"
      },
      "source": [
        ""
      ],
      "execution_count": null,
      "outputs": []
    }
  ]
}