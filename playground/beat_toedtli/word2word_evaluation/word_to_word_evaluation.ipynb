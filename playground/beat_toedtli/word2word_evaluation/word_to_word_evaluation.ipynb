{
 "cells": [
  {
   "cell_type": "code",
   "execution_count": 1,
   "id": "korean-bangladesh",
   "metadata": {},
   "outputs": [
    {
     "data": {
      "text/plain": [
       "'D:\\\\soundofai2\\\\rg_text_to_sound\\\\playground\\\\beat_toedtli\\\\word2word_evaluation'"
      ]
     },
     "execution_count": 1,
     "metadata": {},
     "output_type": "execute_result"
    }
   ],
   "source": [
    "%pwd"
   ]
  },
  {
   "cell_type": "markdown",
   "id": "coastal-cursor",
   "metadata": {},
   "source": [
    "# Evaluation of word-to-words Matchers\n",
    "We are matching qualities to (18) keywords. How, and which matching is best?\n",
    "Here we will: \n",
    "\n",
    "- choose a word embedding technique and a metric\n",
    "- assemble a few qualities\n",
    "- match the qualities to the keywords"
   ]
  },
  {
   "cell_type": "code",
   "execution_count": 2,
   "id": "obvious-diving",
   "metadata": {},
   "outputs": [],
   "source": [
    "import spacy\n",
    "import pandas as pd\n",
    "import numpy as np\n",
    "from scipy.stats import spearmanr\n",
    "nlp = spacy.load(\"en_core_web_sm\")"
   ]
  },
  {
   "cell_type": "code",
   "execution_count": 3,
   "id": "backed-skill",
   "metadata": {},
   "outputs": [],
   "source": [
    "qualities=np.array([ 'delay', 'stretched', 'humming', 'vintage verb', 'less sharp', 'depressing', 'reverse', 'marimba', \n",
    "           'warm', 'chilling', 'dark', 'creepy', 'mushy', 'high energy', 'melodic', 'dreary', 'reverbed', \n",
    "           'groovy', 'chorused', 'grungy', 'rounder', 'richer', 'clean', 'negative feelings', 'quick delay', \n",
    "           'monotone', 'twangy', 'dreamy', 'light reverb', 'nasal', 'purer', 'cleaner', 'distorted', 'less noisy',\n",
    "           'alot of reverb', 'heavy bass', 'tape saturation', 'distortions', 'distored', 'evil', 'melancholic',\n",
    "           'heavily distorted', 'reversed', 'dolce', 'soft', 'emotional', 'cantando', 'impressive bass', \n",
    "           'reverbs', 'brassy', 'too loud',  'juicy bass', 'sharp', 'chiming', 'nice', 'sustained', \n",
    "           'tension', 'softer', 'nice round', 'grungey distortion', 'distorted bass', 'bassy', \n",
    "           'overly aggressive', 'ambient', 'slow', 'other-worldly', 'clear', 'hard', 'bright', \n",
    "           'percussive', 'glitchy', 'melancholy', 'loud', 'fuller', 'futuristic', 'light distortion', \n",
    "           'pitch-shifting', 'metallic', 'agressive', 'pitch shift', 'dull', 'reeverb delay', 'slap-back',\n",
    "           'wrongness', 'higher', 'heavy', 'calm', 'distortion', 'brighter', 'scary', 'tasto', 'mellow', \n",
    "           'increased sustain', 'delays', 'flute', 'slap back delay', 'light', 'less distortion', 'noise',\n",
    "           'sad', 'bouncy', 'depressed', 'deep', 'dissonant', 'choppiness', 'reverb', 'pitch shifting', 'trippy',\n",
    "           'fast', 'pont', 'tropical', 'bowed', 'weird', 'tremolo', 'dry', 'chorus effect', 'moody', \n",
    "           'less aggressive', 'compression', 'weedy', 'horror', 'trappy', 'tinny', 'aggressive', 'atmospheric', \n",
    "           'light chorus', 'tube saturation'\n",
    "])\n",
    "keywords = np.array(['bright', 'dark', 'full', 'hollow', 'smooth', 'rough', 'warm', 'metallic', 'clear', 'muddy', 'thin', 'thick', 'pure', 'noisy', 'rich', 'sparse', 'soft', 'hard'])\n",
    "assert len(keywords)==18"
   ]
  },
  {
   "cell_type": "code",
   "execution_count": null,
   "id": "victorian-hanging",
   "metadata": {},
   "outputs": [],
   "source": []
  },
  {
   "cell_type": "code",
   "execution_count": 4,
   "id": "marine-controversy",
   "metadata": {},
   "outputs": [
    {
     "data": {
      "text/plain": [
       "array([96])"
      ]
     },
     "execution_count": 4,
     "metadata": {},
     "output_type": "execute_result"
    }
   ],
   "source": [
    "np.unique([len(nlp(str(quality)).vector.tolist() ) for quality in qualities])"
   ]
  },
  {
   "cell_type": "code",
   "execution_count": 5,
   "id": "vanilla-delhi",
   "metadata": {},
   "outputs": [
    {
     "data": {
      "text/plain": [
       "((96, 127), (96, 18))"
      ]
     },
     "execution_count": 5,
     "metadata": {},
     "output_type": "execute_result"
    }
   ],
   "source": [
    "\n",
    "WordVectorArray = np.array([x for x in [nlp(str(quality)).vector.tolist() for quality in qualities] if len(x)>0]).T\n",
    "KeywordVectorArray = np.array([x for x in [nlp(str(keyword)).vector.tolist() for keyword in keywords] if len(x)>0]).T\n",
    "\n",
    "WordVectorArray.shape,KeywordVectorArray.shape"
   ]
  },
  {
   "cell_type": "code",
   "execution_count": 6,
   "id": "alien-freeware",
   "metadata": {},
   "outputs": [
    {
     "data": {
      "text/plain": [
       "0.48935463161376935"
      ]
     },
     "execution_count": 6,
     "metadata": {},
     "output_type": "execute_result"
    }
   ],
   "source": [
    "qualities[9],keywords[0]\n",
    "WordVec = nlp(str(qualities[9])).vector.tolist()\n",
    "KeywordVec = nlp(str(keywords[0])).vector.tolist()\n",
    "sim = np.dot(WordVec,KeywordVec)/np.sqrt(np.dot(WordVec,WordVec))/np.sqrt(np.dot(KeywordVec,KeywordVec))\n",
    "sim"
   ]
  },
  {
   "cell_type": "code",
   "execution_count": 7,
   "id": "mighty-privilege",
   "metadata": {},
   "outputs": [],
   "source": [
    "#np.dot(WordVectorArray.T,KeywordVectorArray) #crashes?!??"
   ]
  },
  {
   "cell_type": "code",
   "execution_count": null,
   "id": "surprising-bhutan",
   "metadata": {},
   "outputs": [],
   "source": []
  },
  {
   "cell_type": "code",
   "execution_count": 8,
   "id": "large-setup",
   "metadata": {},
   "outputs": [
    {
     "data": {
      "text/plain": [
       "(127, 18, (96, 18))"
      ]
     },
     "execution_count": 8,
     "metadata": {},
     "output_type": "execute_result"
    }
   ],
   "source": [
    "NrQualities = WordVectorArray.shape[1]\n",
    "NrKeywords = KeywordVectorArray.shape[1]\n",
    "NrQualities,NrKeywords,KeywordVectorArray.shape"
   ]
  },
  {
   "cell_type": "code",
   "execution_count": 9,
   "id": "solved-parcel",
   "metadata": {},
   "outputs": [
    {
     "data": {
      "text/plain": [
       "((127, 18), 127)"
      ]
     },
     "execution_count": 9,
     "metadata": {},
     "output_type": "execute_result"
    }
   ],
   "source": [
    "def cos_similarity(quality_vec,keyword_vec):\n",
    "    similarity = np.dot(quality_vec,keyword_vec)/np.sqrt(np.dot(quality_vec,quality_vec))/np.sqrt(np.dot(keyword_vec,keyword_vec))\n",
    "    return similarity\n",
    "\n",
    "def euclidean_distance(quality_vec,keyword_vec):\n",
    "    similarity = 1-np.dot(quality_vec-keyword_vec,quality_vec-keyword_vec)\n",
    "    return similarity\n",
    "\n",
    "def compute_similarity_matrix(similarity_metric):\n",
    "    simMatrix = np.zeros((NrQualities,NrKeywords))\n",
    "    for i in range(NrQualities):\n",
    "        quality_vec = WordVectorArray[:,i]\n",
    "        for j in range(NrKeywords):\n",
    "            keyword_vec = KeywordVectorArray[:,j]\n",
    "            simMatrix[i,j]=similarity_metric(quality_vec,keyword_vec)\n",
    "    return simMatrix\n",
    "\n",
    "simMatrix_cos = compute_similarity_matrix(cos_similarity)\n",
    "simMatrix_eucl = compute_similarity_matrix(euclidean_distance)\n",
    "simMatrix_cos.shape,len(qualities)"
   ]
  },
  {
   "cell_type": "code",
   "execution_count": 10,
   "id": "danish-warehouse",
   "metadata": {},
   "outputs": [
    {
     "data": {
      "text/plain": [
       "(0.48935463161376935, -59.95796312459706)"
      ]
     },
     "execution_count": 10,
     "metadata": {},
     "output_type": "execute_result"
    }
   ],
   "source": [
    "simMatrix_cos[9,0],simMatrix_eucl[9,0]"
   ]
  },
  {
   "cell_type": "code",
   "execution_count": 11,
   "id": "confidential-kruger",
   "metadata": {},
   "outputs": [],
   "source": [
    "def compute_sorted_keywords_df(simMatrix):\n",
    "    l = []\n",
    "    lind = []\n",
    "    for i,quality in enumerate(qualities):\n",
    "        index = np.argsort(simMatrix[i,:])[::-1]\n",
    "        l.append(keywords[index])\n",
    "        lind.append(index)\n",
    "    ranked_keywords = np.vstack(l)\n",
    "    df = pd.DataFrame(ranked_keywords,index=qualities)\n",
    "    df.columns = pd.RangeIndex(start=1, stop=df.shape[1]+1, step=1)\n",
    "\n",
    "    return df,np.vstack(lind)\n",
    "df_cos,lind = compute_sorted_keywords_df(simMatrix_cos)\n",
    "df_eucl,lind2 = compute_sorted_keywords_df(simMatrix_eucl)"
   ]
  },
  {
   "cell_type": "code",
   "execution_count": 12,
   "id": "cooked-paintball",
   "metadata": {},
   "outputs": [
    {
     "data": {
      "text/plain": [
       "array([[15,  1,  4, ...,  2, 17, 13],\n",
       "       [ 2,  0, 16, ...,  9, 10, 15],\n",
       "       [15, 10,  5, ..., 13, 17,  7],\n",
       "       ...,\n",
       "       [ 1,  0,  4, ...,  3, 13, 10],\n",
       "       [15, 10,  9, ...,  0, 17, 13],\n",
       "       [15,  1,  9, ..., 17, 13,  2]], dtype=int64)"
      ]
     },
     "execution_count": 12,
     "metadata": {},
     "output_type": "execute_result"
    }
   ],
   "source": [
    "lind"
   ]
  },
  {
   "cell_type": "code",
   "execution_count": 13,
   "id": "checked-assurance",
   "metadata": {},
   "outputs": [
    {
     "data": {
      "text/plain": [
       "array([15,  1,  9], dtype=int64)"
      ]
     },
     "execution_count": 13,
     "metadata": {},
     "output_type": "execute_result"
    }
   ],
   "source": [
    "lind[3,:3]"
   ]
  },
  {
   "cell_type": "code",
   "execution_count": null,
   "id": "intended-terrain",
   "metadata": {},
   "outputs": [],
   "source": [
    "from scipy import stats\n",
    "stats.spearmanr([1,2,3,4,5], [5,6,7,8,7])"
   ]
  },
  {
   "cell_type": "code",
   "execution_count": null,
   "id": "rural-student",
   "metadata": {},
   "outputs": [],
   "source": []
  },
  {
   "cell_type": "code",
   "execution_count": 35,
   "id": "meaningful-assist",
   "metadata": {},
   "outputs": [
    {
     "ename": "TypeError",
     "evalue": "unsupported operand type(s) for /: 'str' and 'int'",
     "output_type": "error",
     "traceback": [
      "\u001b[1;31m---------------------------------------------------------------------------\u001b[0m",
      "\u001b[1;31mTypeError\u001b[0m                                 Traceback (most recent call last)",
      "\u001b[1;32m<ipython-input-35-fbb37c6404ea>\u001b[0m in \u001b[0;36m<module>\u001b[1;34m\u001b[0m\n\u001b[1;32m----> 1\u001b[1;33m \u001b[0mdf_cos\u001b[0m\u001b[1;33m.\u001b[0m\u001b[0mloc\u001b[0m\u001b[1;33m[\u001b[0m\u001b[1;34m'delay'\u001b[0m\u001b[1;33m]\u001b[0m\u001b[1;33m.\u001b[0m\u001b[0mcorr\u001b[0m\u001b[1;33m(\u001b[0m\u001b[0mdf_eucl\u001b[0m\u001b[1;33m.\u001b[0m\u001b[0mloc\u001b[0m\u001b[1;33m[\u001b[0m\u001b[1;34m'delay'\u001b[0m\u001b[1;33m]\u001b[0m\u001b[1;33m)\u001b[0m\u001b[1;33m\u001b[0m\u001b[1;33m\u001b[0m\u001b[0m\n\u001b[0m",
      "\u001b[1;32m~\\Anaconda31\\envs\\nlp\\lib\\site-packages\\pandas\\core\\series.py\u001b[0m in \u001b[0;36mcorr\u001b[1;34m(self, other, method, min_periods)\u001b[0m\n\u001b[0;32m   2323\u001b[0m \u001b[1;33m\u001b[0m\u001b[0m\n\u001b[0;32m   2324\u001b[0m         \u001b[1;32mif\u001b[0m \u001b[0mmethod\u001b[0m \u001b[1;32min\u001b[0m \u001b[1;33m[\u001b[0m\u001b[1;34m\"pearson\"\u001b[0m\u001b[1;33m,\u001b[0m \u001b[1;34m\"spearman\"\u001b[0m\u001b[1;33m,\u001b[0m \u001b[1;34m\"kendall\"\u001b[0m\u001b[1;33m]\u001b[0m \u001b[1;32mor\u001b[0m \u001b[0mcallable\u001b[0m\u001b[1;33m(\u001b[0m\u001b[0mmethod\u001b[0m\u001b[1;33m)\u001b[0m\u001b[1;33m:\u001b[0m\u001b[1;33m\u001b[0m\u001b[1;33m\u001b[0m\u001b[0m\n\u001b[1;32m-> 2325\u001b[1;33m             return nanops.nancorr(\n\u001b[0m\u001b[0;32m   2326\u001b[0m                 \u001b[0mthis\u001b[0m\u001b[1;33m.\u001b[0m\u001b[0mvalues\u001b[0m\u001b[1;33m,\u001b[0m \u001b[0mother\u001b[0m\u001b[1;33m.\u001b[0m\u001b[0mvalues\u001b[0m\u001b[1;33m,\u001b[0m \u001b[0mmethod\u001b[0m\u001b[1;33m=\u001b[0m\u001b[0mmethod\u001b[0m\u001b[1;33m,\u001b[0m \u001b[0mmin_periods\u001b[0m\u001b[1;33m=\u001b[0m\u001b[0mmin_periods\u001b[0m\u001b[1;33m\u001b[0m\u001b[1;33m\u001b[0m\u001b[0m\n\u001b[0;32m   2327\u001b[0m             )\n",
      "\u001b[1;32m~\\Anaconda31\\envs\\nlp\\lib\\site-packages\\pandas\\core\\nanops.py\u001b[0m in \u001b[0;36m_f\u001b[1;34m(*args, **kwargs)\u001b[0m\n\u001b[0;32m     69\u001b[0m             \u001b[1;32mtry\u001b[0m\u001b[1;33m:\u001b[0m\u001b[1;33m\u001b[0m\u001b[1;33m\u001b[0m\u001b[0m\n\u001b[0;32m     70\u001b[0m                 \u001b[1;32mwith\u001b[0m \u001b[0mnp\u001b[0m\u001b[1;33m.\u001b[0m\u001b[0merrstate\u001b[0m\u001b[1;33m(\u001b[0m\u001b[0minvalid\u001b[0m\u001b[1;33m=\u001b[0m\u001b[1;34m\"ignore\"\u001b[0m\u001b[1;33m)\u001b[0m\u001b[1;33m:\u001b[0m\u001b[1;33m\u001b[0m\u001b[1;33m\u001b[0m\u001b[0m\n\u001b[1;32m---> 71\u001b[1;33m                     \u001b[1;32mreturn\u001b[0m \u001b[0mf\u001b[0m\u001b[1;33m(\u001b[0m\u001b[1;33m*\u001b[0m\u001b[0margs\u001b[0m\u001b[1;33m,\u001b[0m \u001b[1;33m**\u001b[0m\u001b[0mkwargs\u001b[0m\u001b[1;33m)\u001b[0m\u001b[1;33m\u001b[0m\u001b[1;33m\u001b[0m\u001b[0m\n\u001b[0m\u001b[0;32m     72\u001b[0m             \u001b[1;32mexcept\u001b[0m \u001b[0mValueError\u001b[0m \u001b[1;32mas\u001b[0m \u001b[0me\u001b[0m\u001b[1;33m:\u001b[0m\u001b[1;33m\u001b[0m\u001b[1;33m\u001b[0m\u001b[0m\n\u001b[0;32m     73\u001b[0m                 \u001b[1;31m# we want to transform an object array\u001b[0m\u001b[1;33m\u001b[0m\u001b[1;33m\u001b[0m\u001b[1;33m\u001b[0m\u001b[0m\n",
      "\u001b[1;32m~\\Anaconda31\\envs\\nlp\\lib\\site-packages\\pandas\\core\\nanops.py\u001b[0m in \u001b[0;36mnancorr\u001b[1;34m(a, b, method, min_periods)\u001b[0m\n\u001b[0;32m   1457\u001b[0m \u001b[1;33m\u001b[0m\u001b[0m\n\u001b[0;32m   1458\u001b[0m     \u001b[0mf\u001b[0m \u001b[1;33m=\u001b[0m \u001b[0mget_corr_func\u001b[0m\u001b[1;33m(\u001b[0m\u001b[0mmethod\u001b[0m\u001b[1;33m)\u001b[0m\u001b[1;33m\u001b[0m\u001b[1;33m\u001b[0m\u001b[0m\n\u001b[1;32m-> 1459\u001b[1;33m     \u001b[1;32mreturn\u001b[0m \u001b[0mf\u001b[0m\u001b[1;33m(\u001b[0m\u001b[0ma\u001b[0m\u001b[1;33m,\u001b[0m \u001b[0mb\u001b[0m\u001b[1;33m)\u001b[0m\u001b[1;33m\u001b[0m\u001b[1;33m\u001b[0m\u001b[0m\n\u001b[0m\u001b[0;32m   1460\u001b[0m \u001b[1;33m\u001b[0m\u001b[0m\n\u001b[0;32m   1461\u001b[0m \u001b[1;33m\u001b[0m\u001b[0m\n",
      "\u001b[1;32m~\\Anaconda31\\envs\\nlp\\lib\\site-packages\\pandas\\core\\nanops.py\u001b[0m in \u001b[0;36mfunc\u001b[1;34m(a, b)\u001b[0m\n\u001b[0;32m   1478\u001b[0m \u001b[1;33m\u001b[0m\u001b[0m\n\u001b[0;32m   1479\u001b[0m         \u001b[1;32mdef\u001b[0m \u001b[0mfunc\u001b[0m\u001b[1;33m(\u001b[0m\u001b[0ma\u001b[0m\u001b[1;33m,\u001b[0m \u001b[0mb\u001b[0m\u001b[1;33m)\u001b[0m\u001b[1;33m:\u001b[0m\u001b[1;33m\u001b[0m\u001b[1;33m\u001b[0m\u001b[0m\n\u001b[1;32m-> 1480\u001b[1;33m             \u001b[1;32mreturn\u001b[0m \u001b[0mnp\u001b[0m\u001b[1;33m.\u001b[0m\u001b[0mcorrcoef\u001b[0m\u001b[1;33m(\u001b[0m\u001b[0ma\u001b[0m\u001b[1;33m,\u001b[0m \u001b[0mb\u001b[0m\u001b[1;33m)\u001b[0m\u001b[1;33m[\u001b[0m\u001b[1;36m0\u001b[0m\u001b[1;33m,\u001b[0m \u001b[1;36m1\u001b[0m\u001b[1;33m]\u001b[0m\u001b[1;33m\u001b[0m\u001b[1;33m\u001b[0m\u001b[0m\n\u001b[0m\u001b[0;32m   1481\u001b[0m \u001b[1;33m\u001b[0m\u001b[0m\n\u001b[0;32m   1482\u001b[0m         \u001b[1;32mreturn\u001b[0m \u001b[0mfunc\u001b[0m\u001b[1;33m\u001b[0m\u001b[1;33m\u001b[0m\u001b[0m\n",
      "\u001b[1;32m<__array_function__ internals>\u001b[0m in \u001b[0;36mcorrcoef\u001b[1;34m(*args, **kwargs)\u001b[0m\n",
      "\u001b[1;32m~\\Anaconda31\\envs\\nlp\\lib\\site-packages\\numpy\\lib\\function_base.py\u001b[0m in \u001b[0;36mcorrcoef\u001b[1;34m(x, y, rowvar, bias, ddof, dtype)\u001b[0m\n\u001b[0;32m   2632\u001b[0m         warnings.warn('bias and ddof have no effect and are deprecated',\n\u001b[0;32m   2633\u001b[0m                       DeprecationWarning, stacklevel=3)\n\u001b[1;32m-> 2634\u001b[1;33m     \u001b[0mc\u001b[0m \u001b[1;33m=\u001b[0m \u001b[0mcov\u001b[0m\u001b[1;33m(\u001b[0m\u001b[0mx\u001b[0m\u001b[1;33m,\u001b[0m \u001b[0my\u001b[0m\u001b[1;33m,\u001b[0m \u001b[0mrowvar\u001b[0m\u001b[1;33m,\u001b[0m \u001b[0mdtype\u001b[0m\u001b[1;33m=\u001b[0m\u001b[0mdtype\u001b[0m\u001b[1;33m)\u001b[0m\u001b[1;33m\u001b[0m\u001b[1;33m\u001b[0m\u001b[0m\n\u001b[0m\u001b[0;32m   2635\u001b[0m     \u001b[1;32mtry\u001b[0m\u001b[1;33m:\u001b[0m\u001b[1;33m\u001b[0m\u001b[1;33m\u001b[0m\u001b[0m\n\u001b[0;32m   2636\u001b[0m         \u001b[0md\u001b[0m \u001b[1;33m=\u001b[0m \u001b[0mdiag\u001b[0m\u001b[1;33m(\u001b[0m\u001b[0mc\u001b[0m\u001b[1;33m)\u001b[0m\u001b[1;33m\u001b[0m\u001b[1;33m\u001b[0m\u001b[0m\n",
      "\u001b[1;32m<__array_function__ internals>\u001b[0m in \u001b[0;36mcov\u001b[1;34m(*args, **kwargs)\u001b[0m\n",
      "\u001b[1;32m~\\Anaconda31\\envs\\nlp\\lib\\site-packages\\numpy\\lib\\function_base.py\u001b[0m in \u001b[0;36mcov\u001b[1;34m(m, y, rowvar, bias, ddof, fweights, aweights, dtype)\u001b[0m\n\u001b[0;32m   2467\u001b[0m             \u001b[0mw\u001b[0m \u001b[1;33m*=\u001b[0m \u001b[0maweights\u001b[0m\u001b[1;33m\u001b[0m\u001b[1;33m\u001b[0m\u001b[0m\n\u001b[0;32m   2468\u001b[0m \u001b[1;33m\u001b[0m\u001b[0m\n\u001b[1;32m-> 2469\u001b[1;33m     \u001b[0mavg\u001b[0m\u001b[1;33m,\u001b[0m \u001b[0mw_sum\u001b[0m \u001b[1;33m=\u001b[0m \u001b[0maverage\u001b[0m\u001b[1;33m(\u001b[0m\u001b[0mX\u001b[0m\u001b[1;33m,\u001b[0m \u001b[0maxis\u001b[0m\u001b[1;33m=\u001b[0m\u001b[1;36m1\u001b[0m\u001b[1;33m,\u001b[0m \u001b[0mweights\u001b[0m\u001b[1;33m=\u001b[0m\u001b[0mw\u001b[0m\u001b[1;33m,\u001b[0m \u001b[0mreturned\u001b[0m\u001b[1;33m=\u001b[0m\u001b[1;32mTrue\u001b[0m\u001b[1;33m)\u001b[0m\u001b[1;33m\u001b[0m\u001b[1;33m\u001b[0m\u001b[0m\n\u001b[0m\u001b[0;32m   2470\u001b[0m     \u001b[0mw_sum\u001b[0m \u001b[1;33m=\u001b[0m \u001b[0mw_sum\u001b[0m\u001b[1;33m[\u001b[0m\u001b[1;36m0\u001b[0m\u001b[1;33m]\u001b[0m\u001b[1;33m\u001b[0m\u001b[1;33m\u001b[0m\u001b[0m\n\u001b[0;32m   2471\u001b[0m \u001b[1;33m\u001b[0m\u001b[0m\n",
      "\u001b[1;32m<__array_function__ internals>\u001b[0m in \u001b[0;36maverage\u001b[1;34m(*args, **kwargs)\u001b[0m\n",
      "\u001b[1;32m~\\Anaconda31\\envs\\nlp\\lib\\site-packages\\numpy\\lib\\function_base.py\u001b[0m in \u001b[0;36maverage\u001b[1;34m(a, axis, weights, returned)\u001b[0m\n\u001b[0;32m    378\u001b[0m \u001b[1;33m\u001b[0m\u001b[0m\n\u001b[0;32m    379\u001b[0m     \u001b[1;32mif\u001b[0m \u001b[0mweights\u001b[0m \u001b[1;32mis\u001b[0m \u001b[1;32mNone\u001b[0m\u001b[1;33m:\u001b[0m\u001b[1;33m\u001b[0m\u001b[1;33m\u001b[0m\u001b[0m\n\u001b[1;32m--> 380\u001b[1;33m         \u001b[0mavg\u001b[0m \u001b[1;33m=\u001b[0m \u001b[0ma\u001b[0m\u001b[1;33m.\u001b[0m\u001b[0mmean\u001b[0m\u001b[1;33m(\u001b[0m\u001b[0maxis\u001b[0m\u001b[1;33m)\u001b[0m\u001b[1;33m\u001b[0m\u001b[1;33m\u001b[0m\u001b[0m\n\u001b[0m\u001b[0;32m    381\u001b[0m         \u001b[0mscl\u001b[0m \u001b[1;33m=\u001b[0m \u001b[0mavg\u001b[0m\u001b[1;33m.\u001b[0m\u001b[0mdtype\u001b[0m\u001b[1;33m.\u001b[0m\u001b[0mtype\u001b[0m\u001b[1;33m(\u001b[0m\u001b[0ma\u001b[0m\u001b[1;33m.\u001b[0m\u001b[0msize\u001b[0m\u001b[1;33m/\u001b[0m\u001b[0mavg\u001b[0m\u001b[1;33m.\u001b[0m\u001b[0msize\u001b[0m\u001b[1;33m)\u001b[0m\u001b[1;33m\u001b[0m\u001b[1;33m\u001b[0m\u001b[0m\n\u001b[0;32m    382\u001b[0m     \u001b[1;32melse\u001b[0m\u001b[1;33m:\u001b[0m\u001b[1;33m\u001b[0m\u001b[1;33m\u001b[0m\u001b[0m\n",
      "\u001b[1;32m~\\Anaconda31\\envs\\nlp\\lib\\site-packages\\numpy\\core\\_methods.py\u001b[0m in \u001b[0;36m_mean\u001b[1;34m(a, axis, dtype, out, keepdims, where)\u001b[0m\n\u001b[0;32m    178\u001b[0m     \u001b[0mret\u001b[0m \u001b[1;33m=\u001b[0m \u001b[0mumr_sum\u001b[0m\u001b[1;33m(\u001b[0m\u001b[0marr\u001b[0m\u001b[1;33m,\u001b[0m \u001b[0maxis\u001b[0m\u001b[1;33m,\u001b[0m \u001b[0mdtype\u001b[0m\u001b[1;33m,\u001b[0m \u001b[0mout\u001b[0m\u001b[1;33m,\u001b[0m \u001b[0mkeepdims\u001b[0m\u001b[1;33m,\u001b[0m \u001b[0mwhere\u001b[0m\u001b[1;33m=\u001b[0m\u001b[0mwhere\u001b[0m\u001b[1;33m)\u001b[0m\u001b[1;33m\u001b[0m\u001b[1;33m\u001b[0m\u001b[0m\n\u001b[0;32m    179\u001b[0m     \u001b[1;32mif\u001b[0m \u001b[0misinstance\u001b[0m\u001b[1;33m(\u001b[0m\u001b[0mret\u001b[0m\u001b[1;33m,\u001b[0m \u001b[0mmu\u001b[0m\u001b[1;33m.\u001b[0m\u001b[0mndarray\u001b[0m\u001b[1;33m)\u001b[0m\u001b[1;33m:\u001b[0m\u001b[1;33m\u001b[0m\u001b[1;33m\u001b[0m\u001b[0m\n\u001b[1;32m--> 180\u001b[1;33m         ret = um.true_divide(\n\u001b[0m\u001b[0;32m    181\u001b[0m                 ret, rcount, out=ret, casting='unsafe', subok=False)\n\u001b[0;32m    182\u001b[0m         \u001b[1;32mif\u001b[0m \u001b[0mis_float16_result\u001b[0m \u001b[1;32mand\u001b[0m \u001b[0mout\u001b[0m \u001b[1;32mis\u001b[0m \u001b[1;32mNone\u001b[0m\u001b[1;33m:\u001b[0m\u001b[1;33m\u001b[0m\u001b[1;33m\u001b[0m\u001b[0m\n",
      "\u001b[1;31mTypeError\u001b[0m: unsupported operand type(s) for /: 'str' and 'int'"
     ]
    }
   ],
   "source": [
    "df_cos.loc['delay'].corr(df_eucl.loc['delay'])"
   ]
  },
  {
   "cell_type": "code",
   "execution_count": null,
   "id": "loving-complex",
   "metadata": {},
   "outputs": [],
   "source": [
    "df_cos.iloc[0,:].corr"
   ]
  },
  {
   "cell_type": "code",
   "execution_count": 27,
   "id": "champion-cartoon",
   "metadata": {},
   "outputs": [
    {
     "data": {
      "text/plain": [
       "array([15,  1,  4,  3,  5,  8, 12,  9,  0, 10, 11,  7,  6, 16, 14,  2, 17,\n",
       "       13], dtype=int64)"
      ]
     },
     "execution_count": 27,
     "metadata": {},
     "output_type": "execute_result"
    }
   ],
   "source": [
    "lind[0,:]"
   ]
  },
  {
   "cell_type": "code",
   "execution_count": 29,
   "id": "recovered-divide",
   "metadata": {},
   "outputs": [
    {
     "data": {
      "text/plain": [
       "array([ 2, 16,  0,  3,  6, 11, 12,  7, 14,  8,  1,  9,  4, 17,  5, 13, 10,\n",
       "       15], dtype=int64)"
      ]
     },
     "execution_count": 29,
     "metadata": {},
     "output_type": "execute_result"
    }
   ],
   "source": [
    "lind2[1,:]"
   ]
  },
  {
   "cell_type": "code",
   "execution_count": 23,
   "id": "personal-organ",
   "metadata": {},
   "outputs": [
    {
     "data": {
      "text/html": [
       "<div>\n",
       "<style scoped>\n",
       "    .dataframe tbody tr th:only-of-type {\n",
       "        vertical-align: middle;\n",
       "    }\n",
       "\n",
       "    .dataframe tbody tr th {\n",
       "        vertical-align: top;\n",
       "    }\n",
       "\n",
       "    .dataframe thead th {\n",
       "        text-align: right;\n",
       "    }\n",
       "</style>\n",
       "<table border=\"1\" class=\"dataframe\">\n",
       "  <thead>\n",
       "    <tr style=\"text-align: right;\">\n",
       "      <th></th>\n",
       "    </tr>\n",
       "  </thead>\n",
       "  <tbody>\n",
       "  </tbody>\n",
       "</table>\n",
       "</div>"
      ],
      "text/plain": [
       "Empty DataFrame\n",
       "Columns: []\n",
       "Index: []"
      ]
     },
     "execution_count": 23,
     "metadata": {},
     "output_type": "execute_result"
    }
   ],
   "source": [
    "x = df_cos.corr(method=\"kendall\")\n",
    "x"
   ]
  },
  {
   "cell_type": "code",
   "execution_count": null,
   "id": "hybrid-weather",
   "metadata": {},
   "outputs": [],
   "source": [
    "spearmanr(lind[5,:],lind2[5,:])"
   ]
  },
  {
   "cell_type": "code",
   "execution_count": 12,
   "id": "aboriginal-input",
   "metadata": {},
   "outputs": [],
   "source": [
    "df_cos.to_excel('sim_matrix_cos.xlsx')\n",
    "df_eucl.to_excel('sim_matrix_eucl.xlsx')"
   ]
  },
  {
   "cell_type": "code",
   "execution_count": 24,
   "id": "going-kernel",
   "metadata": {},
   "outputs": [
    {
     "data": {
      "text/html": [
       "<div>\n",
       "<style scoped>\n",
       "    .dataframe tbody tr th:only-of-type {\n",
       "        vertical-align: middle;\n",
       "    }\n",
       "\n",
       "    .dataframe tbody tr th {\n",
       "        vertical-align: top;\n",
       "    }\n",
       "\n",
       "    .dataframe thead th {\n",
       "        text-align: right;\n",
       "    }\n",
       "</style>\n",
       "<table border=\"1\" class=\"dataframe\">\n",
       "  <thead>\n",
       "    <tr style=\"text-align: right;\">\n",
       "      <th></th>\n",
       "      <th>1</th>\n",
       "      <th>2</th>\n",
       "      <th>3</th>\n",
       "      <th>4</th>\n",
       "      <th>5</th>\n",
       "      <th>6</th>\n",
       "      <th>7</th>\n",
       "      <th>8</th>\n",
       "      <th>9</th>\n",
       "      <th>10</th>\n",
       "      <th>11</th>\n",
       "      <th>12</th>\n",
       "      <th>13</th>\n",
       "      <th>14</th>\n",
       "      <th>15</th>\n",
       "      <th>16</th>\n",
       "      <th>17</th>\n",
       "      <th>18</th>\n",
       "    </tr>\n",
       "  </thead>\n",
       "  <tbody>\n",
       "    <tr>\n",
       "      <th>delay</th>\n",
       "      <td>sparse</td>\n",
       "      <td>dark</td>\n",
       "      <td>smooth</td>\n",
       "      <td>hollow</td>\n",
       "      <td>rough</td>\n",
       "      <td>clear</td>\n",
       "      <td>pure</td>\n",
       "      <td>muddy</td>\n",
       "      <td>bright</td>\n",
       "      <td>thin</td>\n",
       "      <td>thick</td>\n",
       "      <td>metallic</td>\n",
       "      <td>warm</td>\n",
       "      <td>soft</td>\n",
       "      <td>rich</td>\n",
       "      <td>full</td>\n",
       "      <td>hard</td>\n",
       "      <td>noisy</td>\n",
       "    </tr>\n",
       "    <tr>\n",
       "      <th>stretched</th>\n",
       "      <td>full</td>\n",
       "      <td>bright</td>\n",
       "      <td>soft</td>\n",
       "      <td>thick</td>\n",
       "      <td>rich</td>\n",
       "      <td>pure</td>\n",
       "      <td>clear</td>\n",
       "      <td>warm</td>\n",
       "      <td>hollow</td>\n",
       "      <td>rough</td>\n",
       "      <td>metallic</td>\n",
       "      <td>smooth</td>\n",
       "      <td>hard</td>\n",
       "      <td>dark</td>\n",
       "      <td>noisy</td>\n",
       "      <td>muddy</td>\n",
       "      <td>thin</td>\n",
       "      <td>sparse</td>\n",
       "    </tr>\n",
       "    <tr>\n",
       "      <th>humming</th>\n",
       "      <td>sparse</td>\n",
       "      <td>thin</td>\n",
       "      <td>rough</td>\n",
       "      <td>smooth</td>\n",
       "      <td>pure</td>\n",
       "      <td>warm</td>\n",
       "      <td>full</td>\n",
       "      <td>soft</td>\n",
       "      <td>clear</td>\n",
       "      <td>rich</td>\n",
       "      <td>thick</td>\n",
       "      <td>hollow</td>\n",
       "      <td>dark</td>\n",
       "      <td>bright</td>\n",
       "      <td>muddy</td>\n",
       "      <td>noisy</td>\n",
       "      <td>hard</td>\n",
       "      <td>metallic</td>\n",
       "    </tr>\n",
       "    <tr>\n",
       "      <th>vintage verb</th>\n",
       "      <td>sparse</td>\n",
       "      <td>dark</td>\n",
       "      <td>muddy</td>\n",
       "      <td>smooth</td>\n",
       "      <td>rough</td>\n",
       "      <td>pure</td>\n",
       "      <td>warm</td>\n",
       "      <td>thin</td>\n",
       "      <td>soft</td>\n",
       "      <td>rich</td>\n",
       "      <td>hollow</td>\n",
       "      <td>bright</td>\n",
       "      <td>metallic</td>\n",
       "      <td>full</td>\n",
       "      <td>clear</td>\n",
       "      <td>thick</td>\n",
       "      <td>hard</td>\n",
       "      <td>noisy</td>\n",
       "    </tr>\n",
       "    <tr>\n",
       "      <th>less sharp</th>\n",
       "      <td>hard</td>\n",
       "      <td>warm</td>\n",
       "      <td>full</td>\n",
       "      <td>clear</td>\n",
       "      <td>pure</td>\n",
       "      <td>muddy</td>\n",
       "      <td>dark</td>\n",
       "      <td>thin</td>\n",
       "      <td>thick</td>\n",
       "      <td>soft</td>\n",
       "      <td>hollow</td>\n",
       "      <td>rough</td>\n",
       "      <td>metallic</td>\n",
       "      <td>bright</td>\n",
       "      <td>rich</td>\n",
       "      <td>smooth</td>\n",
       "      <td>sparse</td>\n",
       "      <td>noisy</td>\n",
       "    </tr>\n",
       "    <tr>\n",
       "      <th>...</th>\n",
       "      <td>...</td>\n",
       "      <td>...</td>\n",
       "      <td>...</td>\n",
       "      <td>...</td>\n",
       "      <td>...</td>\n",
       "      <td>...</td>\n",
       "      <td>...</td>\n",
       "      <td>...</td>\n",
       "      <td>...</td>\n",
       "      <td>...</td>\n",
       "      <td>...</td>\n",
       "      <td>...</td>\n",
       "      <td>...</td>\n",
       "      <td>...</td>\n",
       "      <td>...</td>\n",
       "      <td>...</td>\n",
       "      <td>...</td>\n",
       "      <td>...</td>\n",
       "    </tr>\n",
       "    <tr>\n",
       "      <th>tinny</th>\n",
       "      <td>dark</td>\n",
       "      <td>sparse</td>\n",
       "      <td>warm</td>\n",
       "      <td>rough</td>\n",
       "      <td>pure</td>\n",
       "      <td>clear</td>\n",
       "      <td>smooth</td>\n",
       "      <td>soft</td>\n",
       "      <td>bright</td>\n",
       "      <td>full</td>\n",
       "      <td>rich</td>\n",
       "      <td>muddy</td>\n",
       "      <td>thick</td>\n",
       "      <td>hollow</td>\n",
       "      <td>metallic</td>\n",
       "      <td>thin</td>\n",
       "      <td>hard</td>\n",
       "      <td>noisy</td>\n",
       "    </tr>\n",
       "    <tr>\n",
       "      <th>aggressive</th>\n",
       "      <td>warm</td>\n",
       "      <td>pure</td>\n",
       "      <td>full</td>\n",
       "      <td>rich</td>\n",
       "      <td>bright</td>\n",
       "      <td>thick</td>\n",
       "      <td>soft</td>\n",
       "      <td>clear</td>\n",
       "      <td>rough</td>\n",
       "      <td>dark</td>\n",
       "      <td>smooth</td>\n",
       "      <td>muddy</td>\n",
       "      <td>hard</td>\n",
       "      <td>hollow</td>\n",
       "      <td>metallic</td>\n",
       "      <td>thin</td>\n",
       "      <td>noisy</td>\n",
       "      <td>sparse</td>\n",
       "    </tr>\n",
       "    <tr>\n",
       "      <th>atmospheric</th>\n",
       "      <td>dark</td>\n",
       "      <td>bright</td>\n",
       "      <td>smooth</td>\n",
       "      <td>rough</td>\n",
       "      <td>pure</td>\n",
       "      <td>muddy</td>\n",
       "      <td>clear</td>\n",
       "      <td>soft</td>\n",
       "      <td>hard</td>\n",
       "      <td>warm</td>\n",
       "      <td>sparse</td>\n",
       "      <td>thick</td>\n",
       "      <td>rich</td>\n",
       "      <td>metallic</td>\n",
       "      <td>full</td>\n",
       "      <td>hollow</td>\n",
       "      <td>noisy</td>\n",
       "      <td>thin</td>\n",
       "    </tr>\n",
       "    <tr>\n",
       "      <th>light chorus</th>\n",
       "      <td>sparse</td>\n",
       "      <td>thin</td>\n",
       "      <td>muddy</td>\n",
       "      <td>dark</td>\n",
       "      <td>rough</td>\n",
       "      <td>smooth</td>\n",
       "      <td>pure</td>\n",
       "      <td>warm</td>\n",
       "      <td>hollow</td>\n",
       "      <td>metallic</td>\n",
       "      <td>clear</td>\n",
       "      <td>soft</td>\n",
       "      <td>thick</td>\n",
       "      <td>rich</td>\n",
       "      <td>full</td>\n",
       "      <td>bright</td>\n",
       "      <td>hard</td>\n",
       "      <td>noisy</td>\n",
       "    </tr>\n",
       "    <tr>\n",
       "      <th>tube saturation</th>\n",
       "      <td>sparse</td>\n",
       "      <td>dark</td>\n",
       "      <td>muddy</td>\n",
       "      <td>smooth</td>\n",
       "      <td>warm</td>\n",
       "      <td>pure</td>\n",
       "      <td>thin</td>\n",
       "      <td>hollow</td>\n",
       "      <td>rough</td>\n",
       "      <td>bright</td>\n",
       "      <td>clear</td>\n",
       "      <td>soft</td>\n",
       "      <td>metallic</td>\n",
       "      <td>rich</td>\n",
       "      <td>thick</td>\n",
       "      <td>hard</td>\n",
       "      <td>noisy</td>\n",
       "      <td>full</td>\n",
       "    </tr>\n",
       "  </tbody>\n",
       "</table>\n",
       "<p>127 rows × 18 columns</p>\n",
       "</div>"
      ],
      "text/plain": [
       "                     1       2       3       4       5       6       7   \\\n",
       "delay            sparse    dark  smooth  hollow   rough   clear    pure   \n",
       "stretched          full  bright    soft   thick    rich    pure   clear   \n",
       "humming          sparse    thin   rough  smooth    pure    warm    full   \n",
       "vintage verb     sparse    dark   muddy  smooth   rough    pure    warm   \n",
       "less sharp         hard    warm    full   clear    pure   muddy    dark   \n",
       "...                 ...     ...     ...     ...     ...     ...     ...   \n",
       "tinny              dark  sparse    warm   rough    pure   clear  smooth   \n",
       "aggressive         warm    pure    full    rich  bright   thick    soft   \n",
       "atmospheric        dark  bright  smooth   rough    pure   muddy   clear   \n",
       "light chorus     sparse    thin   muddy    dark   rough  smooth    pure   \n",
       "tube saturation  sparse    dark   muddy  smooth    warm    pure    thin   \n",
       "\n",
       "                     8       9         10        11        12        13  \\\n",
       "delay             muddy  bright      thin     thick  metallic      warm   \n",
       "stretched          warm  hollow     rough  metallic    smooth      hard   \n",
       "humming            soft   clear      rich     thick    hollow      dark   \n",
       "vintage verb       thin    soft      rich    hollow    bright  metallic   \n",
       "less sharp         thin   thick      soft    hollow     rough  metallic   \n",
       "...                 ...     ...       ...       ...       ...       ...   \n",
       "tinny              soft  bright      full      rich     muddy     thick   \n",
       "aggressive        clear   rough      dark    smooth     muddy      hard   \n",
       "atmospheric        soft    hard      warm    sparse     thick      rich   \n",
       "light chorus       warm  hollow  metallic     clear      soft     thick   \n",
       "tube saturation  hollow   rough    bright     clear      soft  metallic   \n",
       "\n",
       "                       14        15      16      17        18  \n",
       "delay                soft      rich    full    hard     noisy  \n",
       "stretched            dark     noisy   muddy    thin    sparse  \n",
       "humming            bright     muddy   noisy    hard  metallic  \n",
       "vintage verb         full     clear   thick    hard     noisy  \n",
       "less sharp         bright      rich  smooth  sparse     noisy  \n",
       "...                   ...       ...     ...     ...       ...  \n",
       "tinny              hollow  metallic    thin    hard     noisy  \n",
       "aggressive         hollow  metallic    thin   noisy    sparse  \n",
       "atmospheric      metallic      full  hollow   noisy      thin  \n",
       "light chorus         rich      full  bright    hard     noisy  \n",
       "tube saturation      rich     thick    hard   noisy      full  \n",
       "\n",
       "[127 rows x 18 columns]"
      ]
     },
     "execution_count": 24,
     "metadata": {},
     "output_type": "execute_result"
    }
   ],
   "source": [
    "df_cos"
   ]
  },
  {
   "cell_type": "code",
   "execution_count": 26,
   "id": "industrial-polish",
   "metadata": {},
   "outputs": [
    {
     "data": {
      "text/plain": [
       "('vintage verb',\n",
       " 1       sparse\n",
       " 2         dark\n",
       " 3        muddy\n",
       " 4       smooth\n",
       " 5        rough\n",
       " 6         pure\n",
       " 7         warm\n",
       " 8         thin\n",
       " 9         soft\n",
       " 10        rich\n",
       " 11      hollow\n",
       " 12      bright\n",
       " 13    metallic\n",
       " 14        full\n",
       " 15       clear\n",
       " 16       thick\n",
       " 17        hard\n",
       " 18       noisy\n",
       " Name: vintage verb, dtype: object,\n",
       " 1        muddy\n",
       " 2         warm\n",
       " 3       sparse\n",
       " 4         dark\n",
       " 5         pure\n",
       " 6       hollow\n",
       " 7         soft\n",
       " 8       smooth\n",
       " 9     metallic\n",
       " 10        thin\n",
       " 11       rough\n",
       " 12        rich\n",
       " 13      bright\n",
       " 14       thick\n",
       " 15       clear\n",
       " 16        full\n",
       " 17        hard\n",
       " 18       noisy\n",
       " Name: vintage verb, dtype: object)"
      ]
     },
     "execution_count": 26,
     "metadata": {},
     "output_type": "execute_result"
    }
   ],
   "source": [
    "df_cos.index[3],df_cos.iloc[3,:],df_eucl.iloc[3,:]"
   ]
  },
  {
   "cell_type": "code",
   "execution_count": null,
   "id": "preceding-local",
   "metadata": {},
   "outputs": [],
   "source": []
  },
  {
   "cell_type": "code",
   "execution_count": null,
   "id": "existing-headquarters",
   "metadata": {},
   "outputs": [],
   "source": [
    "res = spearmanr(df_cos.iloc[3,:],df_eucl.iloc[3,:])"
   ]
  },
  {
   "cell_type": "code",
   "execution_count": 14,
   "id": "novel-generic",
   "metadata": {},
   "outputs": [],
   "source": [
    "#for (word,row1),(word,row2) in zip(df_cos.iterrows(),df_eucl.iterrows()):\n",
    "    #res = spearmanr(row1,b=row2)"
   ]
  },
  {
   "cell_type": "code",
   "execution_count": 15,
   "id": "martial-louisville",
   "metadata": {},
   "outputs": [],
   "source": [
    "def compute_spearmanr(df1,df2):\n",
    "    d=dict()\n",
    "    for (word,row1),(word,row2) in zip(df1.iterrows(),df2.iterrows()):\n",
    "        res = spearmanr(row1,row2)\n",
    "        d[word]=res.correlation\n",
    "    ser = pd.Series(d)\n",
    "    return ser"
   ]
  },
  {
   "cell_type": "code",
   "execution_count": 16,
   "id": "dress-default",
   "metadata": {},
   "outputs": [],
   "source": [
    "#spearmanr(df_cos,df_eucl) #kernel restarting"
   ]
  },
  {
   "cell_type": "code",
   "execution_count": 1,
   "id": "technological-operator",
   "metadata": {},
   "outputs": [
    {
     "ename": "NameError",
     "evalue": "name 'compute_spearmanr' is not defined",
     "output_type": "error",
     "traceback": [
      "\u001b[1;31m---------------------------------------------------------------------------\u001b[0m",
      "\u001b[1;31mNameError\u001b[0m                                 Traceback (most recent call last)",
      "\u001b[1;32m<ipython-input-1-b4f5a0a303ff>\u001b[0m in \u001b[0;36m<module>\u001b[1;34m\u001b[0m\n\u001b[1;32m----> 1\u001b[1;33m \u001b[0mcompute_spearmanr\u001b[0m\u001b[1;33m(\u001b[0m\u001b[0mdf_cos\u001b[0m\u001b[1;33m,\u001b[0m\u001b[0mdf_eucl\u001b[0m\u001b[1;33m)\u001b[0m\u001b[1;33m\u001b[0m\u001b[1;33m\u001b[0m\u001b[0m\n\u001b[0m",
      "\u001b[1;31mNameError\u001b[0m: name 'compute_spearmanr' is not defined"
     ]
    }
   ],
   "source": [
    "compute_spearmanr(df_cos,df_eucl)"
   ]
  },
  {
   "cell_type": "code",
   "execution_count": null,
   "id": "selective-annual",
   "metadata": {},
   "outputs": [],
   "source": [
    "spearmanr?"
   ]
  },
  {
   "cell_type": "code",
   "execution_count": null,
   "id": "fabulous-ticket",
   "metadata": {},
   "outputs": [],
   "source": [
    "res"
   ]
  },
  {
   "cell_type": "code",
   "execution_count": null,
   "id": "negative-remedy",
   "metadata": {},
   "outputs": [],
   "source": []
  }
 ],
 "metadata": {
  "kernelspec": {
   "display_name": "nlp",
   "language": "python",
   "name": "nlp"
  },
  "language_info": {
   "codemirror_mode": {
    "name": "ipython",
    "version": 3
   },
   "file_extension": ".py",
   "mimetype": "text/x-python",
   "name": "python",
   "nbconvert_exporter": "python",
   "pygments_lexer": "ipython3",
   "version": "3.8.6"
  }
 },
 "nbformat": 4,
 "nbformat_minor": 5
}
