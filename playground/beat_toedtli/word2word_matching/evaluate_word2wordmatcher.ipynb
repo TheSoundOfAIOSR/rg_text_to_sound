{
 "cells": [
  {
   "cell_type": "markdown",
   "id": "satellite-league",
   "metadata": {},
   "source": [
    "## Next Task: compute precision and recall\n",
    "\n",
    "threshold 25: zoomy, sustain->thick,  smooth    (user results)  \n",
    "zoomy, sustain  -> dark, smooth             (word2word matcher resuts)  \n",
    "smooth tp   \n",
    "dark fp  \n",
    "thik tn (fn?) \n",
    "\n",
    "precision = tp/(tp+fp)  \n",
    "recall = tp/(tp+fn)  \n",
    "\n",
    "for one word, cant compute recall  \n",
    "later: tensorflow language models, Optimising (Kullback-Leibler) for the distribution"
   ]
  },
  {
   "cell_type": "code",
   "execution_count": 1,
   "id": "peripheral-handle",
   "metadata": {},
   "outputs": [],
   "source": [
    "import sys\n",
    "import ipdb\n",
    "import pandas as pd\n",
    "import numpy as np\n",
    "from tqdm import tqdm\n",
    "sys.path.append(r'C:\\Temp\\SoundOfAI\\rg_text_to_sound\\tts_pipeline\\src')\n",
    "\n",
    "from match_word_to_words import prepare_dataset,word_to_wordpair_estimator,word_to_words_matcher,prepare_dataset\n",
    "import matplotlib.pyplot as plt"
   ]
  },
  {
   "cell_type": "code",
   "execution_count": 2,
   "id": "detailed-paris",
   "metadata": {},
   "outputs": [
    {
     "data": {
      "text/html": [
       "<div>\n",
       "<style scoped>\n",
       "    .dataframe tbody tr th:only-of-type {\n",
       "        vertical-align: middle;\n",
       "    }\n",
       "\n",
       "    .dataframe tbody tr th {\n",
       "        vertical-align: top;\n",
       "    }\n",
       "\n",
       "    .dataframe thead th {\n",
       "        text-align: right;\n",
       "    }\n",
       "</style>\n",
       "<table border=\"1\" class=\"dataframe\">\n",
       "  <thead>\n",
       "    <tr style=\"text-align: right;\">\n",
       "      <th></th>\n",
       "      <th>bright_vs_dark</th>\n",
       "      <th>full_vs_hollow</th>\n",
       "      <th>smooth_vs_rough</th>\n",
       "      <th>warm_vs_metallic</th>\n",
       "      <th>clear_vs_muddy</th>\n",
       "      <th>thin_vs_thick</th>\n",
       "      <th>pure_vs_noisy</th>\n",
       "      <th>rich_vs_sparse</th>\n",
       "      <th>soft_vs_hard</th>\n",
       "      <th>description</th>\n",
       "    </tr>\n",
       "  </thead>\n",
       "  <tbody>\n",
       "    <tr>\n",
       "      <th>0</th>\n",
       "      <td>63</td>\n",
       "      <td>25</td>\n",
       "      <td>60</td>\n",
       "      <td>75</td>\n",
       "      <td>11</td>\n",
       "      <td>66</td>\n",
       "      <td>93</td>\n",
       "      <td>19</td>\n",
       "      <td>50</td>\n",
       "      <td>sitar-like</td>\n",
       "    </tr>\n",
       "    <tr>\n",
       "      <th>1</th>\n",
       "      <td>68</td>\n",
       "      <td>29</td>\n",
       "      <td>71</td>\n",
       "      <td>22</td>\n",
       "      <td>31</td>\n",
       "      <td>76</td>\n",
       "      <td>35</td>\n",
       "      <td>29</td>\n",
       "      <td>50</td>\n",
       "      <td>Full</td>\n",
       "    </tr>\n",
       "  </tbody>\n",
       "</table>\n",
       "</div>"
      ],
      "text/plain": [
       "   bright_vs_dark  full_vs_hollow  smooth_vs_rough  warm_vs_metallic  \\\n",
       "0              63              25               60                75   \n",
       "1              68              29               71                22   \n",
       "\n",
       "   clear_vs_muddy  thin_vs_thick  pure_vs_noisy  rich_vs_sparse  soft_vs_hard  \\\n",
       "0              11             66             93              19            50   \n",
       "1              31             76             35              29            50   \n",
       "\n",
       "  description  \n",
       "0  sitar-like  \n",
       "1        Full  "
      ]
     },
     "metadata": {},
     "output_type": "display_data"
    },
    {
     "data": {
      "text/plain": [
       "(1303, 10)"
      ]
     },
     "execution_count": 2,
     "metadata": {},
     "output_type": "execute_result"
    }
   ],
   "source": [
    "df = pd.read_csv('text_to_qualities.csv')\n",
    "colnames = df.columns\n",
    "display(df.head(2))\n",
    "df.shape"
   ]
  },
  {
   "cell_type": "code",
   "execution_count": 3,
   "id": "loved-shakespeare",
   "metadata": {},
   "outputs": [
    {
     "data": {
      "text/html": [
       "<div>\n",
       "<style scoped>\n",
       "    .dataframe tbody tr th:only-of-type {\n",
       "        vertical-align: middle;\n",
       "    }\n",
       "\n",
       "    .dataframe tbody tr th {\n",
       "        vertical-align: top;\n",
       "    }\n",
       "\n",
       "    .dataframe thead th {\n",
       "        text-align: right;\n",
       "    }\n",
       "</style>\n",
       "<table border=\"1\" class=\"dataframe\">\n",
       "  <thead>\n",
       "    <tr style=\"text-align: right;\">\n",
       "      <th></th>\n",
       "      <th>description</th>\n",
       "      <th>bright_vs_dark</th>\n",
       "      <th>full_vs_hollow</th>\n",
       "      <th>smooth_vs_rough</th>\n",
       "      <th>warm_vs_metallic</th>\n",
       "      <th>clear_vs_muddy</th>\n",
       "      <th>thin_vs_thick</th>\n",
       "      <th>pure_vs_noisy</th>\n",
       "      <th>rich_vs_sparse</th>\n",
       "      <th>soft_vs_hard</th>\n",
       "    </tr>\n",
       "  </thead>\n",
       "  <tbody>\n",
       "    <tr>\n",
       "      <th>0</th>\n",
       "      <td>reversed</td>\n",
       "      <td>59.0</td>\n",
       "      <td>74.0</td>\n",
       "      <td>42.0</td>\n",
       "      <td>44.0</td>\n",
       "      <td>75.0</td>\n",
       "      <td>69.0</td>\n",
       "      <td>60.0</td>\n",
       "      <td>85.0</td>\n",
       "      <td>58.0</td>\n",
       "    </tr>\n",
       "    <tr>\n",
       "      <th>3</th>\n",
       "      <td>acoustic</td>\n",
       "      <td>47.0</td>\n",
       "      <td>12.5</td>\n",
       "      <td>69.0</td>\n",
       "      <td>42.0</td>\n",
       "      <td>42.0</td>\n",
       "      <td>59.5</td>\n",
       "      <td>45.0</td>\n",
       "      <td>27.0</td>\n",
       "      <td>12.0</td>\n",
       "    </tr>\n",
       "    <tr>\n",
       "      <th>4</th>\n",
       "      <td>aggressive</td>\n",
       "      <td>20.0</td>\n",
       "      <td>50.0</td>\n",
       "      <td>99.0</td>\n",
       "      <td>84.0</td>\n",
       "      <td>77.0</td>\n",
       "      <td>77.0</td>\n",
       "      <td>79.0</td>\n",
       "      <td>23.0</td>\n",
       "      <td>79.0</td>\n",
       "    </tr>\n",
       "    <tr>\n",
       "      <th>5</th>\n",
       "      <td>artificial</td>\n",
       "      <td>50.0</td>\n",
       "      <td>50.0</td>\n",
       "      <td>99.0</td>\n",
       "      <td>70.0</td>\n",
       "      <td>50.0</td>\n",
       "      <td>50.0</td>\n",
       "      <td>76.0</td>\n",
       "      <td>50.0</td>\n",
       "      <td>50.0</td>\n",
       "    </tr>\n",
       "    <tr>\n",
       "      <th>6</th>\n",
       "      <td>biting</td>\n",
       "      <td>23.0</td>\n",
       "      <td>46.0</td>\n",
       "      <td>36.0</td>\n",
       "      <td>29.0</td>\n",
       "      <td>58.0</td>\n",
       "      <td>50.0</td>\n",
       "      <td>63.5</td>\n",
       "      <td>42.0</td>\n",
       "      <td>72.5</td>\n",
       "    </tr>\n",
       "  </tbody>\n",
       "</table>\n",
       "</div>"
      ],
      "text/plain": [
       "  description  bright_vs_dark  full_vs_hollow  smooth_vs_rough  \\\n",
       "0    reversed            59.0            74.0             42.0   \n",
       "3    acoustic            47.0            12.5             69.0   \n",
       "4  aggressive            20.0            50.0             99.0   \n",
       "5  artificial            50.0            50.0             99.0   \n",
       "6      biting            23.0            46.0             36.0   \n",
       "\n",
       "   warm_vs_metallic  clear_vs_muddy  thin_vs_thick  pure_vs_noisy  \\\n",
       "0              44.0            75.0           69.0           60.0   \n",
       "3              42.0            42.0           59.5           45.0   \n",
       "4              84.0            77.0           77.0           79.0   \n",
       "5              70.0            50.0           50.0           76.0   \n",
       "6              29.0            58.0           50.0           63.5   \n",
       "\n",
       "   rich_vs_sparse  soft_vs_hard  \n",
       "0            85.0          58.0  \n",
       "3            27.0          12.0  \n",
       "4            23.0          79.0  \n",
       "5            50.0          50.0  \n",
       "6            42.0          72.5  "
      ]
     },
     "execution_count": 3,
     "metadata": {},
     "output_type": "execute_result"
    }
   ],
   "source": [
    "dfnew = prepare_dataset(df)\n",
    "dfnew[dfnew.description.str.match('\\'')]\n",
    "dfnew['description'] = dfnew.description.str.replace(\"'\",\"\")\n",
    "dfnew['description']=dfnew.description.str.lower().str.replace('(\\(not.*\\))','',regex=True)\n",
    "dfnew = dfnew[~dfnew.description.str.match('\\(.*\\)')]\n",
    "dfnew.head()"
   ]
  },
  {
   "cell_type": "code",
   "execution_count": 4,
   "id": "affecting-affairs",
   "metadata": {},
   "outputs": [
    {
     "data": {
      "text/plain": [
       "(668, 626)"
      ]
     },
     "execution_count": 4,
     "metadata": {},
     "output_type": "execute_result"
    }
   ],
   "source": [
    "wordlist = dfnew.description\n",
    "unique_word_list = np.unique(wordlist).tolist()\n",
    "len(wordlist),len(unique_word_list)"
   ]
  },
  {
   "cell_type": "markdown",
   "id": "civic-intake",
   "metadata": {},
   "source": [
    "threshold 25: zoomy, sustain->thick,  smooth    (user results)  \n",
    "zoomy, sustain  -> dark, smooth             (word2word matcher resuts)  \n",
    "smooth tp   \n",
    "dark fp  \n",
    "thik tn  \n",
    "\n",
    "precision = tp/(tp+fp)  \n",
    "recall = tp/(tp+fn)  \n",
    "\n",
    "for one word, cant compute recall"
   ]
  },
  {
   "cell_type": "markdown",
   "id": "champion-stanford",
   "metadata": {},
   "source": [
    "# word pair estimator"
   ]
  },
  {
   "cell_type": "code",
   "execution_count": 5,
   "id": "unlike-darwin",
   "metadata": {},
   "outputs": [
    {
     "data": {
      "text/html": [
       "<div>\n",
       "<style scoped>\n",
       "    .dataframe tbody tr th:only-of-type {\n",
       "        vertical-align: middle;\n",
       "    }\n",
       "\n",
       "    .dataframe tbody tr th {\n",
       "        vertical-align: top;\n",
       "    }\n",
       "\n",
       "    .dataframe thead th {\n",
       "        text-align: right;\n",
       "    }\n",
       "</style>\n",
       "<table border=\"1\" class=\"dataframe\">\n",
       "  <thead>\n",
       "    <tr style=\"text-align: right;\">\n",
       "      <th></th>\n",
       "      <th>bright_vs_dark</th>\n",
       "      <th>full_vs_hollow</th>\n",
       "      <th>smooth_vs_rough</th>\n",
       "      <th>warm_vs_metallic</th>\n",
       "      <th>clear_vs_muddy</th>\n",
       "      <th>thin_vs_thick</th>\n",
       "      <th>pure_vs_noisy</th>\n",
       "      <th>rich_vs_sparse</th>\n",
       "      <th>soft_vs_hard</th>\n",
       "    </tr>\n",
       "  </thead>\n",
       "  <tbody>\n",
       "    <tr>\n",
       "      <th>0</th>\n",
       "      <td>59.0</td>\n",
       "      <td>74.0</td>\n",
       "      <td>42.0</td>\n",
       "      <td>44.0</td>\n",
       "      <td>75.0</td>\n",
       "      <td>69.0</td>\n",
       "      <td>60.0</td>\n",
       "      <td>85.0</td>\n",
       "      <td>58.0</td>\n",
       "    </tr>\n",
       "    <tr>\n",
       "      <th>3</th>\n",
       "      <td>47.0</td>\n",
       "      <td>12.5</td>\n",
       "      <td>69.0</td>\n",
       "      <td>42.0</td>\n",
       "      <td>42.0</td>\n",
       "      <td>59.5</td>\n",
       "      <td>45.0</td>\n",
       "      <td>27.0</td>\n",
       "      <td>12.0</td>\n",
       "    </tr>\n",
       "    <tr>\n",
       "      <th>4</th>\n",
       "      <td>20.0</td>\n",
       "      <td>50.0</td>\n",
       "      <td>99.0</td>\n",
       "      <td>84.0</td>\n",
       "      <td>77.0</td>\n",
       "      <td>77.0</td>\n",
       "      <td>79.0</td>\n",
       "      <td>23.0</td>\n",
       "      <td>79.0</td>\n",
       "    </tr>\n",
       "    <tr>\n",
       "      <th>5</th>\n",
       "      <td>50.0</td>\n",
       "      <td>50.0</td>\n",
       "      <td>99.0</td>\n",
       "      <td>70.0</td>\n",
       "      <td>50.0</td>\n",
       "      <td>50.0</td>\n",
       "      <td>76.0</td>\n",
       "      <td>50.0</td>\n",
       "      <td>50.0</td>\n",
       "    </tr>\n",
       "    <tr>\n",
       "      <th>6</th>\n",
       "      <td>23.0</td>\n",
       "      <td>46.0</td>\n",
       "      <td>36.0</td>\n",
       "      <td>29.0</td>\n",
       "      <td>58.0</td>\n",
       "      <td>50.0</td>\n",
       "      <td>63.5</td>\n",
       "      <td>42.0</td>\n",
       "      <td>72.5</td>\n",
       "    </tr>\n",
       "  </tbody>\n",
       "</table>\n",
       "</div>"
      ],
      "text/plain": [
       "   bright_vs_dark  full_vs_hollow  smooth_vs_rough  warm_vs_metallic  \\\n",
       "0            59.0            74.0             42.0              44.0   \n",
       "3            47.0            12.5             69.0              42.0   \n",
       "4            20.0            50.0             99.0              84.0   \n",
       "5            50.0            50.0             99.0              70.0   \n",
       "6            23.0            46.0             36.0              29.0   \n",
       "\n",
       "   clear_vs_muddy  thin_vs_thick  pure_vs_noisy  rich_vs_sparse  soft_vs_hard  \n",
       "0            75.0           69.0           60.0            85.0          58.0  \n",
       "3            42.0           59.5           45.0            27.0          12.0  \n",
       "4            77.0           77.0           79.0            23.0          79.0  \n",
       "5            50.0           50.0           76.0            50.0          50.0  \n",
       "6            58.0           50.0           63.5            42.0          72.5  "
      ]
     },
     "execution_count": 5,
     "metadata": {},
     "output_type": "execute_result"
    }
   ],
   "source": [
    "df_score = dfnew.iloc[:,1:]\n",
    "\n",
    "descriptions = dfnew.iloc[:,0]\n",
    "wordpairnames = df_score.columns.tolist()\n",
    "df_score.head()"
   ]
  },
  {
   "cell_type": "code",
   "execution_count": 6,
   "id": "pointed-sight",
   "metadata": {},
   "outputs": [
    {
     "data": {
      "text/plain": [
       "{'bright_vs_dark': ('bright', 'dark'),\n",
       " 'full_vs_hollow': ('full', 'hollow'),\n",
       " 'smooth_vs_rough': ('smooth', 'rough'),\n",
       " 'warm_vs_metallic': ('warm', 'metallic'),\n",
       " 'clear_vs_muddy': ('clear', 'muddy'),\n",
       " 'thin_vs_thick': ('thin', 'thick'),\n",
       " 'pure_vs_noisy': ('pure', 'noisy'),\n",
       " 'rich_vs_sparse': ('rich', 'sparse'),\n",
       " 'soft_vs_hard': ('soft', 'hard')}"
      ]
     },
     "execution_count": 6,
     "metadata": {},
     "output_type": "execute_result"
    }
   ],
   "source": [
    "target_word_pairs = [('bright', 'dark'), ('full', 'hollow'),( 'smooth', 'rough'), ('warm', 'metallic'), ('clear', 'muddy'), ('thin', 'thick'), ('pure', 'noisy'), ('rich', 'sparse'), ('soft', 'hard')]\n",
    "wordpairnames_to_wordpair_dict = {s:t for s,t in zip(wordpairnames,target_word_pairs)}\n",
    "wordpairnames_to_wordpair_dict"
   ]
  },
  {
   "cell_type": "code",
   "execution_count": 7,
   "id": "refined-horizontal",
   "metadata": {},
   "outputs": [
    {
     "data": {
      "text/plain": [
       "{4, 5}"
      ]
     },
     "execution_count": 7,
     "metadata": {},
     "output_type": "execute_result"
    }
   ],
   "source": [
    "list(np.arange(49.8,50,0.1))\n",
    "A=set([1,2,3])\n",
    "B=set([3,4,5])\n",
    "AandB = A.intersection(B)\n",
    "\n",
    "B.difference(AandB)"
   ]
  },
  {
   "cell_type": "code",
   "execution_count": 8,
   "id": "collective-serbia",
   "metadata": {},
   "outputs": [],
   "source": [
    "def single_word_precision_recall(word,scorerow,threshold,w2wpe,wordpairnames_to_wordpair_dict):\n",
    "    elems_above = scorerow[(scorerow>(100-threshold)) ]\n",
    "    elems_below = scorerow[(scorerow<=threshold) ]\n",
    "    words_above = [wordpairnames_to_wordpair_dict[wordpairname][1] for wordpairname in elems_above.index]\n",
    "    words_below = [wordpairnames_to_wordpair_dict[wordpairname][0] for wordpairname in elems_below.index]\n",
    "    A = set(words_above+words_below)\n",
    "    opposite_pairs_beyond_threshold = elems_above.index.tolist()+elems_below.index.tolist()\n",
    "    B = set([w2wpe.match_word_to_wordpair(word,ind)['closest word'] for ind in opposite_pairs_beyond_threshold])\n",
    "    assert len(A)==len(B), 'This should never occurr!'\n",
    "    \n",
    "    AandB = set(A).intersection(B)\n",
    "    tp = AandB\n",
    "    fp = B.difference(AandB) # were found but shouldn't have been\n",
    "    fn = A.difference(AandB) # were not found but should have been\n",
    "\n",
    "    den = len(tp)+len(fp)\n",
    "    if den==0:\n",
    "        precision = np.NaN\n",
    "    else:\n",
    "        precision = len(tp)/den\n",
    "\n",
    "    den = len(tp)+len(fn)\n",
    "    if den==0:\n",
    "        recall = np.NaN\n",
    "    else:\n",
    "        recall = len(tp)/den\n",
    "    \n",
    "    if precision!=recall and not np.isnan(precision): \n",
    "        print('This should never occur!')\n",
    "        print('word, A,B,AandB,tp,fp,fn,precision,recall')\n",
    "        print(word, A,B,AandB,tp,fp,fn,precision,recall)\n",
    "    return precision,recall,len(A)"
   ]
  },
  {
   "cell_type": "code",
   "execution_count": 9,
   "id": "verbal-cycle",
   "metadata": {},
   "outputs": [
    {
     "data": {
      "text/plain": [
       "{'proximity': 0.0,\n",
       " 'slider value': 0.0,\n",
       " 'closest dist': 0.0,\n",
       " 'other dist': 6.304089796156789,\n",
       " 'closest word': 'full',\n",
       " 'other word': 'hollow'}"
      ]
     },
     "execution_count": 9,
     "metadata": {},
     "output_type": "execute_result"
    }
   ],
   "source": [
    "lang_model='en_core_web_sm'\n",
    "w2wpe = word_to_wordpair_estimator()\n",
    "w2wpe.build(wordpairnames,target_word_pairs,lang_model=lang_model)\n",
    "w2wpe.match_word_to_wordpair('full','full_vs_hollow')"
   ]
  },
  {
   "cell_type": "code",
   "execution_count": 10,
   "id": "dutch-objective",
   "metadata": {},
   "outputs": [
    {
     "name": "stderr",
     "output_type": "stream",
     "text": [
      "668it [00:03, 184.66it/s]\n"
     ]
    }
   ],
   "source": [
    "word = descriptions[0]\n",
    "scorerow = df_score.iloc[0,:]\n",
    "prec_50_list=[]\n",
    "NrRelevantWordpairList=[]\n",
    "for word, (irow,scorerow) in tqdm(zip(descriptions, df_score.iterrows())):\n",
    "    prec,rec,NrRelevantWordpairs = single_word_precision_recall(word,scorerow,10,w2wpe,wordpairnames_to_wordpair_dict)\n",
    "    prec_50_list.append(prec)\n",
    "    NrRelevantWordpairList.append(NrRelevantWordpairs)"
   ]
  },
  {
   "cell_type": "code",
   "execution_count": 11,
   "id": "color-beatles",
   "metadata": {},
   "outputs": [
    {
     "data": {
      "text/plain": [
       "2      1.000000\n",
       "3      0.000000\n",
       "5      0.000000\n",
       "12     0.000000\n",
       "17     0.000000\n",
       "         ...   \n",
       "656    0.750000\n",
       "657    0.333333\n",
       "658    1.000000\n",
       "664    1.000000\n",
       "666    0.666667\n",
       "Length: 272, dtype: float64"
      ]
     },
     "execution_count": 11,
     "metadata": {},
     "output_type": "execute_result"
    }
   ],
   "source": [
    "pd.Series(prec_50_list).dropna()"
   ]
  },
  {
   "cell_type": "code",
   "execution_count": 12,
   "id": "earlier-april",
   "metadata": {},
   "outputs": [
    {
     "data": {
      "text/plain": [
       "(668, nan)"
      ]
     },
     "execution_count": 12,
     "metadata": {},
     "output_type": "execute_result"
    }
   ],
   "source": [
    "\n",
    "\n",
    "len(prec_50_list),np.mean(prec_50_list)"
   ]
  },
  {
   "cell_type": "code",
   "execution_count": 13,
   "id": "tested-costume",
   "metadata": {},
   "outputs": [
    {
     "data": {
      "text/plain": [
       "'0.0 2.0 4.0 6.0 8.0 10.0 12.0 14.0 16.0 18.0 20.0 22.0 24.0 26.0 28.0 30.0 32.0 34.0 36.0 38.0 40.0 42.0 44.0 46.0 48.0 45.0 45.5 46.0 46.5 47.0 47.5 48.0 48.5 49.0 49.5 50.0'"
      ]
     },
     "execution_count": 13,
     "metadata": {},
     "output_type": "execute_result"
    }
   ],
   "source": [
    "\n",
    "' '.join([f'{i:1.1f}' for i in thresholdlist])"
   ]
  },
  {
   "cell_type": "code",
   "execution_count": 32,
   "id": "emotional-belgium",
   "metadata": {},
   "outputs": [],
   "source": [
    "def compute_accuracy(lang_model='en_core_web_lg'):\n",
    "    w2wpe = word_to_wordpair_estimator()\n",
    "    w2wpe.build(wordpairnames,target_word_pairs,lang_model=lang_model)\n",
    "    thresholdlist = list(np.arange(0,50,2))+list(np.arange(45,50,0.5))+[50.]\n",
    "\n",
    "    mean_accuracy_list = []\n",
    "    nrrelevantlist = []\n",
    "    for threshold in tqdm(thresholdlist):\n",
    "        acc_list=[]\n",
    "        NrRelevantWordpairList=[]\n",
    "        for word, (irow,scorerow) in zip(descriptions, df_score.iterrows()):\n",
    "            precision,recall,NrRelevantWordpairs = single_word_precision_recall(word,scorerow,threshold,w2wpe,wordpairnames_to_wordpair_dict)\n",
    "            acc_list.append(precision)\n",
    "            NrRelevantWordpairList.append(NrRelevantWordpairs)\n",
    "        assert len(acc_list)>0, 'something is wrong...'\n",
    "        meanAccuracyVal = pd.Series(acc_list).dropna().mean()\n",
    "        NrRelevantVal = np.mean(NrRelevantWordpairList)\n",
    "\n",
    "        mean_accuracy_list.append(meanAccuracyVal)\n",
    "        nrrelevantlist.append(NrRelevantVal)\n",
    "    return mean_accuracy_list,nrrelevantlist"
   ]
  },
  {
   "cell_type": "code",
   "execution_count": 33,
   "id": "valued-offer",
   "metadata": {},
   "outputs": [
    {
     "name": "stdout",
     "output_type": "stream",
     "text": [
      "Wall time: 0 ns\n"
     ]
    },
    {
     "name": "stderr",
     "output_type": "stream",
     "text": [
      "100%|██████████████████████████████████████████████████████████████████████████████████| 36/36 [10:50<00:00, 18.07s/it]\n",
      "100%|██████████████████████████████████████████████████████████████████████████████████| 36/36 [11:05<00:00, 18.49s/it]\n"
     ]
    }
   ],
   "source": [
    "%time\n",
    "lang_model1 = 'en_core_web_sm'\n",
    "lang_model2 = 'en_core_web_lg'\n",
    "mean_accuracy_list1,nrrelevantlist1 = compute_accuracy(lang_model=lang_model1)\n",
    "mean_accuracy_list2,nrrelevantlist2 = compute_accuracy(lang_model=lang_model2)"
   ]
  },
  {
   "cell_type": "code",
   "execution_count": 41,
   "id": "meaningful-words",
   "metadata": {},
   "outputs": [],
   "source": [
    "if np.all(np.isclose(np.array(nrrelevantlist1),np.array(nrrelevantlist2))):\n",
    "    nrrelevantlist = nrrelevantlist1"
   ]
  },
  {
   "cell_type": "code",
   "execution_count": 50,
   "id": "saved-surface",
   "metadata": {},
   "outputs": [
    {
     "data": {
      "image/png": "[encoded data removed]",
      "text/plain": [
       "<Figure size 1080x504 with 3 Axes>"
      ]
     },
     "metadata": {
      "needs_background": "light"
     },
     "output_type": "display_data"
    }
   ],
   "source": [
    "plt.figure(1,figsize=(15,7))\n",
    "plt.subplot(3,1,1)\n",
    "plt.plot(thresholdlist,mean_accuracy_list1,marker='o',label='Accuracy')\n",
    "plt.suptitle(f'Accuracy vs. Threshold\\nWords considered have (score <= threshold) or  (score > 100-threshold)')\n",
    "plt.title(f'Accuracy of {lang_model1}')\n",
    "plt.ylabel('Accuracy')\n",
    "plt.legend()\n",
    "\n",
    "plt.subplot(2,1,2)\n",
    "plt.plot(thresholdlist,mean_accuracy_list2,marker='o',label='Accuracy')\n",
    "plt.title(f'Accuracy of {lang_model2}')\n",
    "plt.ylabel('Accuracy')\n",
    "plt.legend()\n",
    "\n",
    "plt.subplot(3,1,3)\n",
    "plt.plot(thresholdlist,nrrelevantlist,marker='o')\n",
    "plt.title('Average number of relevant sliders')\n",
    "plt.xlabel('threshold value')\n",
    "plt.ylabel('Nr of Sliders')\n",
    "plt.yticks(np.arange(1,10,2))\n",
    "plt.subplots_adjust(hspace=.6)"
   ]
  },
  {
   "cell_type": "code",
   "execution_count": 51,
   "id": "dressed-consensus",
   "metadata": {},
   "outputs": [
    {
     "data": {
      "image/png": "[encoded data removed]",
      "text/plain": [
       "<Figure size 1080x504 with 2 Axes>"
      ]
     },
     "metadata": {
      "needs_background": "light"
     },
     "output_type": "display_data"
    }
   ],
   "source": [
    "plt.figure(1,figsize=(15,7))\n",
    "plt.subplot(2,1,1)\n",
    "plt.plot(thresholdlist,mean_accuracy_list1,marker='o',label=f'Accuracy of {lang_model1}')\n",
    "plt.plot(thresholdlist,mean_accuracy_list2,marker='o',label=f'Accuracy of {lang_model2}')\n",
    "plt.suptitle(f'Accuracy vs. Threshold\\nWords considered have (score <= threshold) or  (score > 100-threshold)')\n",
    "plt.ylabel('Accuracy')\n",
    "plt.legend()\n",
    "\n",
    "plt.subplot(2,1,2)\n",
    "\n",
    "plt.plot(thresholdlist,nrrelevantlist,marker='o')\n",
    "plt.title('Average number of relevant sliders')\n",
    "plt.xlabel('threshold value')\n",
    "plt.ylabel('Nr of Sliders')\n",
    "plt.yticks(np.arange(1,10,2))\n",
    "plt.subplots_adjust(hspace=.6)"
   ]
  },
  {
   "cell_type": "code",
   "execution_count": null,
   "id": "royal-subject",
   "metadata": {},
   "outputs": [],
   "source": [
    "row\n",
    "lang_model = 'en_core_web_sm'\n",
    "\n",
    "w2wpe = word_to_wordpair_estimator()\n",
    "w2wpe.build(wordpairnames,target_word_pairs,lang_model=lang_model)\n",
    "prediction_dict = w2wpe.match_word_to_wordpair(word,ind)\n",
    "ind,prediction_dict[]"
   ]
  },
  {
   "cell_type": "code",
   "execution_count": null,
   "id": "after-reform",
   "metadata": {},
   "outputs": [],
   "source": [
    "ind,w2wpe.match_word_to_wordpair(word,ind)"
   ]
  },
  {
   "cell_type": "code",
   "execution_count": null,
   "id": "under-accent",
   "metadata": {},
   "outputs": [],
   "source": [
    "\n",
    "def compute_mean_acc(dfnew,df_score,thresholdmargin,threshold=50, required_confidence=0, lang_model='en_core_web_sm'):\n",
    "    \"\"\"\n",
    "    Take the opposite quality pairs for which the slider value is outside the 50+/- <thresholdmargin> band. \n",
    "    Compute the accuracy in predicting the correct opposite-pair word for each such pair. \n",
    "    threshold: where to split a score to lower or upper quality in pair: 50 is the most natural value.\n",
    "    The prediction must be with a (minimum) < required_confidence > otherwise the prediction is deemed unsure.\n",
    "    The returned accuracy is computed as \n",
    "    accuracy = NrCorrect/(NrCorrect+NrWrong+NrUnsure)\n",
    "    averaged over all words in <dfnew>.description\n",
    "    \"\"\"\n",
    "    \n",
    "    w2wpe = word_to_wordpair_estimator()\n",
    "    w2wpe.build(wordpairnames,target_word_pairs,lang_model=lang_model)\n",
    "    acc_list = []\n",
    "    unsure_list = []\n",
    "    NrCorrect = 0\n",
    "    NrWrong = 0\n",
    "    NrUnsure = 0\n",
    "    for word, (irow,scorerow) in zip(dfnew.description, df_score.iterrows()):\n",
    "        #determine which opposite quality pairs will be correctly predicted as the first and second word in the word pair, respectively\n",
    "        valid_qualities = scorerow[(scorerow > threshold+thresholdmargin )|(scorerow < threshold-thresholdmargin)]\n",
    "        \n",
    "        below_th = valid_qualities[valid_qualities<threshold].index.tolist()#first word in the word pair is correct\n",
    "        above_th = valid_qualities[valid_qualities>threshold].index.tolist()#second word in the word pair is correct\n",
    "        \n",
    "        #word_pair_tuple = wordpairnames_to_wordpair_dict[word_pair]\n",
    "        \n",
    "        \n",
    "        NrCorrect = 0\n",
    "        NrWrong = 0\n",
    "        NrUnsure = 0\n",
    "        for word_pair in above_th:\n",
    "            res = w2wpe.match_word_to_wordpair(word,word_pair)            \n",
    "            if res['slider value']>(threshold+required_confidence):# Add prediction threshold?\n",
    "                NrCorrect+=1\n",
    "            elif res['slider value']<(threshold-required_confidence):\n",
    "                NrWrong+=1            \n",
    "            else:\n",
    "                NrUnsure+=1 #if required confidence was not reached\n",
    "        for word_pair in below_th:\n",
    "            res = w2wpe.match_word_to_wordpair(word,word_pair)            \n",
    "            if res['slider value']<(threshold-required_confidence):# Add prediction threshold?\n",
    "                NrCorrect+=1\n",
    "            elif res['slider value']>threshold+required_confidence:\n",
    "                NrWrong+=1\n",
    "            else:\n",
    "                NrUnsure+=1 #if required confidence was not reached\n",
    "        if len(below_th)+len(above_th)==0: continue\n",
    "        accuracy = NrCorrect/(NrCorrect+NrWrong+NrUnsure)\n",
    "        unsure_ratio = NrUnsure/(NrCorrect+NrWrong+NrUnsure)  # the fraction of cases where the prediction did not reach the required confidence\n",
    "        acc_list.append(accuracy)\n",
    "        unsure_list.append(unsure_ratio)\n",
    "        #resdict = {'NrCorrect':NrCorrect, 'NrWrong':NrWrong, 'NrUnsure':NrUnsure}\n",
    "    mean_acc = np.mean(acc_list) #list of accuracies for each word, over all available sliders\n",
    "    mean_unsure = np.mean(unsure_list)\n",
    "    del w2wpe\n",
    "    return mean_acc,mean_unsure"
   ]
  },
  {
   "cell_type": "code",
   "execution_count": null,
   "id": "accredited-election",
   "metadata": {},
   "outputs": [],
   "source": [
    "def f():\n",
    "    ipdb.set_trace()\n",
    "    return wordpair_matcher_dict['bright_vs_dark'].match_word_to_words('sunny')\n",
    "f()"
   ]
  },
  {
   "cell_type": "code",
   "execution_count": null,
   "id": "smooth-istanbul",
   "metadata": {},
   "outputs": [],
   "source": [
    "y = np.array([np.where(row['bright_vs_dark']>=50,1,0) for row in rowlist])\n",
    "y.shape,yhat1.shape"
   ]
  },
  {
   "cell_type": "code",
   "execution_count": null,
   "id": "nonprofit-phone",
   "metadata": {},
   "outputs": [],
   "source": [
    "yhat_binary = np.array([0 if yhatelem==target_word_pair[0] else 1 for yhatelem in yhat1])\n",
    "yhat_binary.shape"
   ]
  },
  {
   "cell_type": "code",
   "execution_count": null,
   "id": "enormous-center",
   "metadata": {},
   "outputs": [],
   "source": [
    "len(yhat),len(rowlist)"
   ]
  },
  {
   "cell_type": "code",
   "execution_count": null,
   "id": "scientific-property",
   "metadata": {},
   "outputs": [],
   "source": []
  },
  {
   "cell_type": "code",
   "execution_count": null,
   "id": "spoken-rouge",
   "metadata": {},
   "outputs": [],
   "source": [
    "accuracy_score(y,yhat_binary)"
   ]
  },
  {
   "cell_type": "code",
   "execution_count": null,
   "id": "involved-finnish",
   "metadata": {},
   "outputs": [],
   "source": [
    "yhat1"
   ]
  },
  {
   "cell_type": "code",
   "execution_count": null,
   "id": "genuine-warner",
   "metadata": {},
   "outputs": [],
   "source": [
    "df_detailed = pd.DataFrame(index=wordlist)\n",
    "df_detailed.head(7)"
   ]
  },
  {
   "cell_type": "code",
   "execution_count": null,
   "id": "simplified-psychology",
   "metadata": {},
   "outputs": [],
   "source": [
    "wordlist = [w for r,w in generate_training_examples(df)]\n",
    "rowlist =  [r for r,w in generate_training_examples(df)]\n",
    "\n",
    "acc_scores=dict()\n",
    "for target_word_pair,opposite_quality_pair in zip(target_word_pairs,colnames):\n",
    "    y = np.array([np.where(row[opposite_quality_pair]>=50,1,0) for row in rowlist])\n",
    "    \n",
    "    print(target_word_pair,opposite_quality_pair)\n",
    "    w2wm = word_to_words_matcher()\n",
    "    w2wm.build(target_word_pair)\n",
    "    yhat1 = np.array(f(wordlist,w2wm,variant=1))\n",
    "    df_detailed[opposite_quality_pair] = yhat1\n",
    "    yhat_binary = np.array([0 if yhatelem==target_word_pair[0] else 1 for yhatelem in yhat1])\n",
    "    acc_score = accuracy_score(y,yhat_binary)\n",
    "    print(f'{acc_score:1.3f}')\n",
    "    acc_scores[opposite_quality_pair] = acc_score"
   ]
  },
  {
   "cell_type": "code",
   "execution_count": null,
   "id": "color-samoa",
   "metadata": {},
   "outputs": [],
   "source": [
    "print(df_detailed.shape)\n",
    "df_detailed.to_excel('predicted_qualities.xlsx')\n",
    "df_detailed.head(20)"
   ]
  },
  {
   "cell_type": "code",
   "execution_count": null,
   "id": "bottom-grocery",
   "metadata": {},
   "outputs": [],
   "source": [
    "pd.Series(acc_scores).plot.bar(ylabel='accuracy')\n",
    "plt.plot(plt.xlim(),[0.5,0.5],'--',c='k')\n",
    "plt.title(f'Accuracy of Spacy word vectors in predicting\\ntext_to_qualities.csv ({len(wordlist)} qualities)')\n",
    "plt.ylim(0,1)"
   ]
  },
  {
   "cell_type": "code",
   "execution_count": null,
   "id": "raising-collector",
   "metadata": {},
   "outputs": [],
   "source": []
  },
  {
   "cell_type": "markdown",
   "id": "pressing-canberra",
   "metadata": {},
   "source": [
    "## Next Task: compute precision and recall\n",
    "\n",
    "threshold 25: zoomy, sustain->thick,  smooth    (user results)  \n",
    "zoomy, sustain  -> dark, smooth             (word2word matcher resuts)  \n",
    "smooth tp   \n",
    "dark fp  \n",
    "thik tn  \n",
    "\n",
    "precision = tp/(tp+fp)  \n",
    "recall = tp/(tp+fn)  \n",
    "\n",
    "for one word, cant compute recall  \n",
    "later: tensorflow language models, Optimising (Kullback-Leibler) for the distribution"
   ]
  }
 ],
 "metadata": {
  "kernelspec": {
   "display_name": "nlp",
   "language": "python",
   "name": "nlp"
  },
  "language_info": {
   "codemirror_mode": {
    "name": "ipython",
    "version": 3
   },
   "file_extension": ".py",
   "mimetype": "text/x-python",
   "name": "python",
   "nbconvert_exporter": "python",
   "pygments_lexer": "ipython3",
   "version": "3.8.6"
  }
 },
 "nbformat": 4,
 "nbformat_minor": 5
}
