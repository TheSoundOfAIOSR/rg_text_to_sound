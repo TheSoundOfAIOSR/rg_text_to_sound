{
 "cells": [
  {
   "cell_type": "code",
   "execution_count": 1,
   "id": "b31e6ba5-623b-4cd6-be4c-5525f808121c",
   "metadata": {},
   "outputs": [],
   "source": [
    "import pandas as pd\n",
    "import sys\n",
    "sys.path.append(r'C:\\Temp\\SoundOfAI\\rg_text_to_sound\\tts_pipeline\\src')\n",
    "sys.path\n",
    "from tts_pipeline.core import InferenceModel"
   ]
  },
  {
   "cell_type": "code",
   "execution_count": 2,
   "id": "c3d58f15-31e7-4d97-8302-4eafc8e2088d",
   "metadata": {},
   "outputs": [],
   "source": [
    "from match_word_to_words import word_to_words_matcher\n",
    "w2wm = word_to_words_matcher()\n",
    "target_list = ['Bright', 'Dark', 'Full', 'Hollow', 'Smooth', 'Rough', 'Warm', 'Metallic', 'Clear', 'Muddy', 'Thin', 'Thick', 'Pure', 'Noisy', 'Rich', 'Sparse', 'Soft', 'Hard']\n",
    "\n",
    "w2wm.build(target_list)"
   ]
  },
  {
   "cell_type": "code",
   "execution_count": 23,
   "id": "38ec6048-5f19-4926-9863-aabc7b6d12bf",
   "metadata": {},
   "outputs": [
    {
     "data": {
      "text/plain": [
       "(['Hard'], ['Hard'], ['Bright'])"
      ]
     },
     "execution_count": 23,
     "metadata": {},
     "output_type": "execute_result"
    }
   ],
   "source": [
    "w2wm.predict(['hot']),w2wm.predict(['hot']),w2wm.predict(['shiny'])"
   ]
  },
  {
   "cell_type": "code",
   "execution_count": 27,
   "id": "baa5ab51-8924-48f5-a7d3-a5cefd6dfbe3",
   "metadata": {},
   "outputs": [
    {
     "data": {
      "text/html": [
       "<div>\n",
       "<style scoped>\n",
       "    .dataframe tbody tr th:only-of-type {\n",
       "        vertical-align: middle;\n",
       "    }\n",
       "\n",
       "    .dataframe tbody tr th {\n",
       "        vertical-align: top;\n",
       "    }\n",
       "\n",
       "    .dataframe thead th {\n",
       "        text-align: right;\n",
       "    }\n",
       "</style>\n",
       "<table border=\"1\" class=\"dataframe\">\n",
       "  <thead>\n",
       "    <tr style=\"text-align: right;\">\n",
       "      <th></th>\n",
       "      <th>text</th>\n",
       "      <th>split_sentences</th>\n",
       "    </tr>\n",
       "  </thead>\n",
       "  <tbody>\n",
       "    <tr>\n",
       "      <th>0</th>\n",
       "      <td>I always thought distorted guitar was more lik...</td>\n",
       "      <td>[('i', 'NONE'), ('always', 'NONE'), ('thought'...</td>\n",
       "    </tr>\n",
       "    <tr>\n",
       "      <th>1</th>\n",
       "      <td>You can t hear the guitar through the mass of ...</td>\n",
       "      <td>[('you', 'NONE'), ('can', 'NONE'), ('t', 'NONE...</td>\n",
       "    </tr>\n",
       "    <tr>\n",
       "      <th>2</th>\n",
       "      <td>Guitar amp sim in ADDITION to my clean bass gu...</td>\n",
       "      <td>[('guitar', 'INSTR'), ('amp', 'NONE'), ('sim',...</td>\n",
       "    </tr>\n",
       "    <tr>\n",
       "      <th>3</th>\n",
       "      <td>Example I want to hear a bright guitar</td>\n",
       "      <td>[('example', 'NONE'), ('i', 'NONE'), ('want', ...</td>\n",
       "    </tr>\n",
       "    <tr>\n",
       "      <th>4</th>\n",
       "      <td>Sigh In order to not be completely dismissive ...</td>\n",
       "      <td>[('sigh', 'NONE'), ('in', 'NONE'), ('order', '...</td>\n",
       "    </tr>\n",
       "  </tbody>\n",
       "</table>\n",
       "</div>"
      ],
      "text/plain": [
       "                                                text                                    split_sentences\n",
       "0  I always thought distorted guitar was more lik...  [('i', 'NONE'), ('always', 'NONE'), ('thought'...\n",
       "1  You can t hear the guitar through the mass of ...  [('you', 'NONE'), ('can', 'NONE'), ('t', 'NONE...\n",
       "2  Guitar amp sim in ADDITION to my clean bass gu...  [('guitar', 'INSTR'), ('amp', 'NONE'), ('sim',...\n",
       "3             Example I want to hear a bright guitar  [('example', 'NONE'), ('i', 'NONE'), ('want', ...\n",
       "4  Sigh In order to not be completely dismissive ...  [('sigh', 'NONE'), ('in', 'NONE'), ('order', '..."
      ]
     },
     "execution_count": 27,
     "metadata": {},
     "output_type": "execute_result"
    }
   ],
   "source": [
    "df = pd.read_csv('pf_data.csv')\n",
    "df.head()"
   ]
  },
  {
   "cell_type": "code",
   "execution_count": 34,
   "id": "140cb809-6a64-490b-b961-49c75dd549a4",
   "metadata": {},
   "outputs": [],
   "source": [
    "pd.set_option('display.max_columns', 500)\n",
    "pd.set_option('display.width', 10000)"
   ]
  },
  {
   "cell_type": "code",
   "execution_count": 29,
   "id": "de23d868-77c2-4cc1-9f8e-d08a17d7a5a6",
   "metadata": {},
   "outputs": [
    {
     "data": {
      "text/html": [
       "<div>\n",
       "<style scoped>\n",
       "    .dataframe tbody tr th:only-of-type {\n",
       "        vertical-align: middle;\n",
       "    }\n",
       "\n",
       "    .dataframe tbody tr th {\n",
       "        vertical-align: top;\n",
       "    }\n",
       "\n",
       "    .dataframe thead th {\n",
       "        text-align: right;\n",
       "    }\n",
       "</style>\n",
       "<table border=\"1\" class=\"dataframe\">\n",
       "  <thead>\n",
       "    <tr style=\"text-align: right;\">\n",
       "      <th></th>\n",
       "      <th>text</th>\n",
       "      <th>split_sentences</th>\n",
       "    </tr>\n",
       "  </thead>\n",
       "  <tbody>\n",
       "    <tr>\n",
       "      <th>0</th>\n",
       "      <td>I always thought distorted guitar was more lik...</td>\n",
       "      <td>[('i', 'NONE'), ('always', 'NONE'), ('thought'...</td>\n",
       "    </tr>\n",
       "    <tr>\n",
       "      <th>1</th>\n",
       "      <td>You can t hear the guitar through the mass of ...</td>\n",
       "      <td>[('you', 'NONE'), ('can', 'NONE'), ('t', 'NONE...</td>\n",
       "    </tr>\n",
       "    <tr>\n",
       "      <th>2</th>\n",
       "      <td>Guitar amp sim in ADDITION to my clean bass gu...</td>\n",
       "      <td>[('guitar', 'INSTR'), ('amp', 'NONE'), ('sim',...</td>\n",
       "    </tr>\n",
       "    <tr>\n",
       "      <th>3</th>\n",
       "      <td>Example I want to hear a bright guitar</td>\n",
       "      <td>[('example', 'NONE'), ('i', 'NONE'), ('want', ...</td>\n",
       "    </tr>\n",
       "    <tr>\n",
       "      <th>4</th>\n",
       "      <td>Sigh In order to not be completely dismissive ...</td>\n",
       "      <td>[('sigh', 'NONE'), ('in', 'NONE'), ('order', '...</td>\n",
       "    </tr>\n",
       "  </tbody>\n",
       "</table>\n",
       "</div>"
      ],
      "text/plain": [
       "                                                text                                    split_sentences\n",
       "0  I always thought distorted guitar was more lik...  [('i', 'NONE'), ('always', 'NONE'), ('thought'...\n",
       "1  You can t hear the guitar through the mass of ...  [('you', 'NONE'), ('can', 'NONE'), ('t', 'NONE...\n",
       "2  Guitar amp sim in ADDITION to my clean bass gu...  [('guitar', 'INSTR'), ('amp', 'NONE'), ('sim',...\n",
       "3             Example I want to hear a bright guitar  [('example', 'NONE'), ('i', 'NONE'), ('want', ...\n",
       "4  Sigh In order to not be completely dismissive ...  [('sigh', 'NONE'), ('in', 'NONE'), ('order', '..."
      ]
     },
     "metadata": {},
     "output_type": "display_data"
    }
   ],
   "source": [
    "with pd.option_context('display.max_rows', None, 'display.max_columns', 500,'display.expand_frame_repr', False,\n",
    "                      'display.width',10000):\n",
    "    display(df.head())"
   ]
  },
  {
   "cell_type": "code",
   "execution_count": 30,
   "id": "33df03ff-66d4-46cd-b2da-44b5ba2b94a3",
   "metadata": {},
   "outputs": [],
   "source": [
    "df.iloc[:,1] = df.iloc[:,1].map(eval)"
   ]
  },
  {
   "cell_type": "code",
   "execution_count": 35,
   "id": "a42ea47e-4af9-4736-9d28-67455c031cf9",
   "metadata": {},
   "outputs": [
    {
     "data": {
      "text/plain": [
       "101    [(after, NONE), (i, NONE), (lowered, NONE), (t...\n",
       "102    [(is, NONE), (learning, NONE), (to, NONE), (si...\n",
       "103    [(there, NONE), (are, NONE), (definitely, NONE...\n",
       "104    [(i, NONE), (played, NONE), (fingerstyle, NONE...\n",
       "105    [(i, NONE), (studied, NONE), (classical guitar...\n",
       "                             ...                        \n",
       "596    [(description, NONE), (bouncy, QLTY), (real, N...\n",
       "597    [(description, NONE), (lofi, NONE), (pop, NONE...\n",
       "598    [(description, NONE), (enjoy, NONE), (this, NO...\n",
       "599    [(description, NONE), (piano, INSTR), (made, N...\n",
       "600    [(description, NONE), (sad, QLTY), (omni-bells...\n",
       "Name: split_sentences, Length: 500, dtype: object"
      ]
     },
     "execution_count": 35,
     "metadata": {},
     "output_type": "execute_result"
    }
   ],
   "source": [
    "df.iloc[:,1].tail(500)"
   ]
  },
  {
   "cell_type": "code",
   "execution_count": 32,
   "id": "ebe4ebff-0f35-4d4b-8f20-10d793c9734e",
   "metadata": {},
   "outputs": [],
   "source": [
    "def extract_qualities(cell):\n",
    "    return [word for word, typed in cell if typed=='QLTY']\n",
    "def extract_instruments(cell):\n",
    "    return [word for word, typed in cell if typed=='INSTR']"
   ]
  },
  {
   "cell_type": "code",
   "execution_count": 33,
   "id": "44aefa9d-6d29-4efd-b4da-d47645d504ca",
   "metadata": {},
   "outputs": [
    {
     "data": {
      "text/plain": [
       "128"
      ]
     },
     "execution_count": 33,
     "metadata": {},
     "output_type": "execute_result"
    }
   ],
   "source": [
    "myl = []\n",
    "for l in df.iloc[:,1].map(extract_qualities):\n",
    "        myl+=l\n",
    "myl = set(myl)\n",
    "len(myl)"
   ]
  },
  {
   "cell_type": "code",
   "execution_count": null,
   "id": "bbbdd215-b566-4974-a5ed-b096e5f23268",
   "metadata": {},
   "outputs": [],
   "source": []
  },
  {
   "cell_type": "code",
   "execution_count": 50,
   "id": "4bdc1264-a0bf-4ec4-b164-95df8d5f7e2f",
   "metadata": {},
   "outputs": [
    {
     "data": {
      "text/plain": [
       "68"
      ]
     },
     "execution_count": 50,
     "metadata": {},
     "output_type": "execute_result"
    }
   ],
   "source": [
    "myl = []\n",
    "for l in df.iloc[:,1].map(extract_instruments):\n",
    "        myl+=l\n",
    "myl = set(myl)\n",
    "len(myl)"
   ]
  },
  {
   "cell_type": "code",
   "execution_count": 36,
   "id": "fdcb0d8f-ee0e-4be8-be7d-ad11a2790d63",
   "metadata": {},
   "outputs": [],
   "source": [
    "target_list = [l.lower() for l in target_list]"
   ]
  },
  {
   "cell_type": "code",
   "execution_count": 90,
   "id": "b167eed2-efa3-4c36-918f-ebb54323f74d",
   "metadata": {},
   "outputs": [],
   "source": [
    "df_train = pd.read_excel(r'C:\\Temp\\SoundOfAI\\rg_text_to_sound\\playground\\beat_toedtli\\word2word_matching\\Trainingdata.xlsx')"
   ]
  },
  {
   "cell_type": "code",
   "execution_count": 91,
   "id": "76f918b0-3b9d-4768-af61-e815ef4d45d4",
   "metadata": {},
   "outputs": [],
   "source": [
    "import numpy as np\n",
    "for irow,row in df_train.iterrows():\n",
    "    continue\n",
    "    break"
   ]
  },
  {
   "cell_type": "code",
   "execution_count": 140,
   "id": "4717b0f1-4825-46b7-80ab-432819c663af",
   "metadata": {},
   "outputs": [],
   "source": [
    "\n",
    "l2=[]\n",
    "l = []\n",
    "for irow,row in (df_train.iloc[:,:]=='x').iterrows():\n",
    "    x = df_train.iloc[:,:].columns[np.where(row.values)]\n",
    "    if len(x)>0:\n",
    "        l.append([df_train.iloc[irow,0],x[0],w2wm.predict([x[0]])[0]])\n",
    "    else:\n",
    "        l2.append(df_train.iloc[irow,0])\n",
    "pd.DataFrame(l).to_excel(r'C:\\Temp\\SoundOfAI\\rg_text_to_sound\\playground\\beat_toedtli\\word2word_matching\\export.xlsx')"
   ]
  },
  {
   "cell_type": "code",
   "execution_count": 134,
   "id": "73a02b57-23ba-4696-9e3e-28abc320a31e",
   "metadata": {},
   "outputs": [
    {
     "data": {
      "text/plain": [
       "'delay,stretched,humming,vintage verb,reverse,marimba,high energy,melodic,dreary,reverbed,groovy,chorused,negative feelings,quick delay,monotone,dreamy,light reverb,alot of reverb,tape saturation,distortions,distored,evil,melancholic,heavily distorted,reversed,emotional,impressive bass,brassy,too loud,juicy bass,chiming,nice,sustained,tension,nice round,grungey distortion,distorted bass,bassy,overly aggressive,ambient,slow,other-worldly,percussive,glitchy,melancholy,loud,futuristic,light distortion,pitch-shifting,metallic,agressive,pitch shift,dull,reeverb delay,slap-back,wrongness,higher,calm,distortion,scary,tasto,increased sustain,delays,flute,slap back delay,light,less distortion,noise,sad,bouncy,depressed,deep,dissonant,choppiness,reverb,pitch shifting,trippy,fast,pont,tropical,bowed,weird,tremolo,dry,chorus effect,moody,less aggressive,compression,weedy,horror,trappy,tinny,aggressive,atmospheric,light chorus,tube saturation'"
      ]
     },
     "execution_count": 134,
     "metadata": {},
     "output_type": "execute_result"
    }
   ],
   "source": [
    "','.join([elem for elem in l2 if not pd.isnull(elem)])"
   ]
  },
  {
   "cell_type": "code",
   "execution_count": 145,
   "id": "91b5f53b-084c-472c-9140-ade87f40da68",
   "metadata": {},
   "outputs": [
    {
     "data": {
      "text/plain": [
       "'bright dark full hollow smooth rough warm metallic clear muddy thin thick pure noisy rich sparse soft hard'"
      ]
     },
     "execution_count": 145,
     "metadata": {},
     "output_type": "execute_result"
    }
   ],
   "source": [
    "' '.join(target_list)"
   ]
  },
  {
   "cell_type": "code",
   "execution_count": 143,
   "id": "0c85c6d7-12f5-4c39-b0bc-482d358fbc5e",
   "metadata": {},
   "outputs": [
    {
     "name": "stdout",
     "output_type": "stream",
     "text": [
      "bright\n",
      "dark\n",
      "full\n",
      "hollow\n",
      "smooth\n",
      "rough\n",
      "warm\n",
      "metallic\n",
      "clear\n",
      "muddy\n",
      "thin\n",
      "thick\n",
      "pure\n",
      "noisy\n",
      "rich\n",
      "sparse\n",
      "soft\n",
      "hard\n"
     ]
    }
   ],
   "source": [
    "for word in target_list:\n",
    "    print(word)"
   ]
  },
  {
   "cell_type": "code",
   "execution_count": null,
   "id": "117afed8-00c3-42dd-a2df-8d7d8ee7d387",
   "metadata": {},
   "outputs": [],
   "source": []
  }
 ],
 "metadata": {
  "kernelspec": {
   "display_name": "nlp",
   "language": "python",
   "name": "nlp"
  },
  "language_info": {
   "codemirror_mode": {
    "name": "ipython",
    "version": 3
   },
   "file_extension": ".py",
   "mimetype": "text/x-python",
   "name": "python",
   "nbconvert_exporter": "python",
   "pygments_lexer": "ipython3",
   "version": "3.8.6"
  }
 },
 "nbformat": 4,
 "nbformat_minor": 5
}
